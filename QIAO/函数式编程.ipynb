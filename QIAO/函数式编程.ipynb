{
 "cells": [
  {
   "cell_type": "markdown",
   "metadata": {},
   "source": [
    "## 函数式编程\n",
    "- 给予lambda演算的一种编程方式\n",
    "    - 程序中只有函数\n",
    "    - 函数可以作为参数,同样可以作为返回值\n",
    "    - 纯函数式编程语言: LISP,  Haskell\n",
    "    \n",
    "- Python函数式编程只是借鉴函数式编程的一些特点,可以理解成一半函数式一半Python\n",
    "- 需要讲述\n",
    "    - 高阶函数\n",
    "    - 返回函数\n",
    "    - 匿名函数\n",
    "    - 装饰器\n",
    "    - 偏函数"
   ]
  },
  {
   "cell_type": "markdown",
   "metadata": {},
   "source": [
    "### lambda 表达式\n",
    "- 函数: 最大程度复用代码\n",
    "    - 存在问题:  如果函数很小,很短,  则会造成啰嗦\n",
    "    - 如果函数被调用次数少, 则会造成浪费\n",
    "    - 对于阅读者来说, 造成阅读流程的被迫中断\n",
    "    \n",
    "- lambda表达式(匿名函数):\n",
    "    - 一个表达式,函数体相对简单\n",
    "    - 不是一个代码块,仅仅是一个表达式\n",
    "    - 可以有参数,有多个参数,用逗号隔开\n",
    "    "
   ]
  },
  {
   "cell_type": "code",
   "execution_count": 4,
   "metadata": {},
   "outputs": [
    {
     "data": {
      "text/plain": [
       "81"
      ]
     },
     "execution_count": 4,
     "metadata": {},
     "output_type": "execute_result"
    }
   ],
   "source": [
    "#lambda表达式的用法\n",
    "# 1. 以lambda开头\n",
    "# 2. 紧跟一定的参数(如果有的话)\n",
    "# 3. 参数后用冒号和表达式主题隔开\n",
    "# 4. 只是一个表达式,所以,没有return\n",
    "\n",
    "stm = lambda x: 100 * x \n",
    "# 使用上跟函数一模一样\n",
    "stm(66)\n",
    "\n",
    "stm2 = lambda x, y, z: x + y*10 + z*20\n",
    "stm2(1,2,3)"
   ]
  },
  {
   "cell_type": "markdown",
   "metadata": {},
   "source": [
    "# 高阶函数\n",
    "- 把函数作为参数使用的函数, 叫做高阶函数\n",
    "    - 函数名称就是一个变量\n",
    "    - 既然函数名称是变量,则应该可以被当做参数传入另一个函数"
   ]
  },
  {
   "cell_type": "code",
   "execution_count": 18,
   "metadata": {},
   "outputs": [
    {
     "name": "stdout",
     "output_type": "stream",
     "text": [
      "1800\n"
     ]
    }
   ],
   "source": [
    "# 举例\n",
    "# funA是普通函数,返回一个传入数字的100倍数字\n",
    "\n",
    "def funA(n):\n",
    "    return n * 100\n",
    "\n",
    "# 再写一个函数,把传入的参数乘以300, 利用高阶函数\n",
    "def funB(n ):\n",
    "    # 最终想返回３００ｎ\n",
    "    return funA(n) * 3\n",
    "\n",
    "# 写一个高阶函数\n",
    "def funC(n, f):\n",
    "    # 假定函数是把n扩大300倍\n",
    "    return f(n) * 3 \n",
    "\n",
    "print(funC(6, funA))\n",
    "\n",
    "# 比较funB 与 funC, 显然funC的写法优于funB"
   ]
  },
  {
   "cell_type": "markdown",
   "metadata": {},
   "source": [
    "### 系统高阶函数 - map\n",
    "- 原意就是映射,即把集合或者列表的元素,每一个元素都按照一定的规则进行操作,生成一个新的列表或者集合\n",
    "- map 函数是系统提供的具有映射功能的函数,返回值是一个迭代对象"
   ]
  },
  {
   "cell_type": "code",
   "execution_count": 4,
   "metadata": {},
   "outputs": [
    {
     "name": "stdout",
     "output_type": "stream",
     "text": [
      "[0, 1, 2, 3, 4, 5, 6, 7, 8, 9]\n",
      "[0, 10, 20, 30, 40, 50, 60, 70, 80, 90]\n",
      "<map object at 0x7f153d089438>\n",
      "0\n",
      "10\n",
      "20\n",
      "30\n",
      "40\n",
      "50\n",
      "60\n",
      "70\n",
      "80\n",
      "90\n"
     ]
    }
   ],
   "source": [
    "# map举例\n",
    "# 有一个列表,相对列表里的每一个元素乘以10, 并得到一个新的列表\n",
    "\n",
    "l1 = [i for i in range(10)]\n",
    "print(l1)\n",
    "\n",
    "l2 = []\n",
    "for i in l1:\n",
    "    l2.append(i * 10)\n",
    "print(l2)\n",
    "\n",
    "\n",
    "# 利用map实现\n",
    "def nulTen(n):\n",
    "    return n * 10\n",
    "\n",
    "l3 = map(nulTen, l1)\n",
    "print(l3)\n",
    "\n",
    "for i in l3:\n",
    "    print(i)\n",
    "    \n"
   ]
  },
  {
   "cell_type": "markdown",
   "metadata": {
    "collapsed": true
   },
   "source": [
    "## reduce \n",
    "- 原意是归并, 缩减\n",
    "- 把一个可迭代的对象最后归并成一个结果\n",
    "- 对于作为参数的函数要求:  必须有两个参数, 必须有返回结果\n",
    "- reduce([1,2,3,4,5]) == f(f(f(f(1,2),3),4),5)\n",
    "- reduce 需要导入functools包"
   ]
  },
  {
   "cell_type": "code",
   "execution_count": 5,
   "metadata": {},
   "outputs": [
    {
     "name": "stdout",
     "output_type": "stream",
     "text": [
      "15\n"
     ]
    }
   ],
   "source": [
    "from functools import reduce\n",
    "\n",
    "# 定义一个操作函数\n",
    "# 加入操作函数只是相加\n",
    "\n",
    "def A(x, y):\n",
    "    return x + y \n",
    "\n",
    "# 对于列表[1,2,3,4,5]执行A的reduce操作\n",
    "rst = reduce(A, [1,2,3,4,5] )\n",
    "print(rst)"
   ]
  },
  {
   "cell_type": "markdown",
   "metadata": {
    "collapsed": true
   },
   "source": [
    "### filter 函数\n",
    "- 过滤函数:  对一组数据进行过滤, 符合条件的数据会生成一个新的列表并返回\n",
    "- 跟map相比较:\n",
    "    - 相同: 都对列表的每一个元素进行逐一操作\n",
    "    - 不同:\n",
    "        - map会生成一个与原来数据相对应 的新数列\n",
    "        - filter不一定, 只要符合条件的才会进入新的数据合集\n",
    "    - filter 函数怎么写:\n",
    "        - 利用给定函数进行判断\n",
    "        - 返回值一定是个布尔值\n",
    "        - 调用格式:  filter(f, data)  f,是过滤函数 , data, 是数据"
   ]
  },
  {
   "cell_type": "code",
   "execution_count": 2,
   "metadata": {},
   "outputs": [
    {
     "name": "stdout",
     "output_type": "stream",
     "text": [
      "<filter object at 0x7ff1202755c0>\n",
      "[12, 8654, 321654]\n"
     ]
    }
   ],
   "source": [
    "# filter案例\n",
    "\n",
    "# 需要定义过滤函数\n",
    "# 过滤函数要求有输入, 返回布尔值\n",
    "def isEven(a):\n",
    "    return a % 2 ==0\n",
    "l = [12,1,321,321,8654,654987897987,64321,13,321654,213]\n",
    "\n",
    "rst = filter(isEven, l)\n",
    "# 返回的filter内容是一个可迭代的对象\n",
    "print(rst)\n",
    "\n",
    "print([i for i in rst])"
   ]
  },
  {
   "cell_type": "markdown",
   "metadata": {},
   "source": [
    "### 高阶函数 - 排序\n",
    "- 把一个序列按照给定算法进行排序\n",
    "- key: 在排序前对每一个元素进行key函数运算,可以理解成按照key函数定义的逻辑进行排序\n",
    "- Python2 与 python3 相差巨大\n"
   ]
  },
  {
   "cell_type": "code",
   "execution_count": 5,
   "metadata": {},
   "outputs": [
    {
     "name": "stdout",
     "output_type": "stream",
     "text": [
      "[1384843, 412356, 21321, 16313, 4564]\n"
     ]
    }
   ],
   "source": [
    "# 排序的案例\n",
    "\n",
    "a = [21321,4564,1384843,412356,16313]\n",
    "al = sorted(a, reverse = True)\n",
    "print(al)"
   ]
  },
  {
   "cell_type": "code",
   "execution_count": 6,
   "metadata": {},
   "outputs": [
    {
     "name": "stdout",
     "output_type": "stream",
     "text": [
      "[56432, -456, 121, -121, 45, 12]\n"
     ]
    }
   ],
   "source": [
    "# 排序案例2\n",
    "\n",
    "a = [56432,121,45,12,-456,-121]\n",
    "# 按照绝对值进行排序\n",
    "# abs是求绝对值的意思\n",
    "# 即按照据对峙的倒叙排序\n",
    "al = sorted(a, key=abs, reverse=True)\n",
    "print(al)"
   ]
  },
  {
   "cell_type": "markdown",
   "metadata": {},
   "source": [
    "### 返回函数\n",
    "- 函数可以返回具体的值\n",
    "- 也可以返回一个函数作为结果"
   ]
  },
  {
   "cell_type": "code",
   "execution_count": 7,
   "metadata": {},
   "outputs": [
    {
     "name": "stdout",
     "output_type": "stream",
     "text": [
      "In myF\n",
      "None\n"
     ]
    }
   ],
   "source": [
    "# 定义一个普通函数\n",
    "\n",
    "def myF(a):\n",
    "    print(\"In myF\")\n",
    "    return None\n",
    "\n",
    "a = myF(8)\n",
    "print(a)"
   ]
  },
  {
   "cell_type": "code",
   "execution_count": 9,
   "metadata": {},
   "outputs": [
    {
     "name": "stdout",
     "output_type": "stream",
     "text": [
      "<class 'function'>\n",
      "<function myF2.<locals>.myF3 at 0x7ff129508840>\n",
      "In myF3\n"
     ]
    },
    {
     "data": {
      "text/plain": [
       "3"
      ]
     },
     "execution_count": 9,
     "metadata": {},
     "output_type": "execute_result"
    }
   ],
   "source": [
    "# 函数作为返回值返回,  被返回的函数在函数体内定义\n",
    "\n",
    "def myF2():\n",
    "    def myF3():\n",
    "        print(\"In myF3\")\n",
    "        return 3\n",
    "    return myF3\n",
    "\n",
    "# 调用myF2,  返回一个函数myF3, 赋值给f3\n",
    "\n",
    "f3 = myF2()\n",
    "print(type(f3))\n",
    "print(f3)\n",
    "f3()"
   ]
  },
  {
   "cell_type": "code",
   "execution_count": 11,
   "metadata": {},
   "outputs": [
    {
     "data": {
      "text/plain": [
       "87"
      ]
     },
     "execution_count": 11,
     "metadata": {},
     "output_type": "execute_result"
    }
   ],
   "source": [
    "# args:  参数列表\n",
    "# 1. myF4定义函数, 返回内部定义的函数myF5\n",
    "# 2. myF5使用了外部变量, 这个变量是myF4的参数\n",
    "\n",
    "def myF4(*args):\n",
    "    def myF5():\n",
    "        rst = 0\n",
    "        for i in args:\n",
    "            rst += i \n",
    "        return rst\n",
    "    return myF5\n",
    "\n",
    "f5 = myF4(1,2,3,4,56,6,8,7)\n",
    "f5()"
   ]
  },
  {
   "cell_type": "markdown",
   "metadata": {},
   "source": [
    "## 闭包( closure )\n",
    "- 当一个函数在内部定义函数,并且内部的函数应用外部函数的参数或者局部变量, 当内部函数被当做返回值的时候,相关参数和变量保存在返回的函数中,这种结果叫做闭包\n",
    "- 上面定义的myF4是一个标准的闭包结构"
   ]
  },
  {
   "cell_type": "code",
   "execution_count": 12,
   "metadata": {},
   "outputs": [
    {
     "name": "stdout",
     "output_type": "stream",
     "text": [
      "9\n",
      "9\n",
      "9\n"
     ]
    }
   ],
   "source": [
    "# 闭包常见的坑\n",
    "\n",
    "def count():\n",
    "    #定义列表\n",
    "    fs = []\n",
    "    for i in range(1,4):\n",
    "        #定义了一个函数f\n",
    "        # f是一个闭包结构\n",
    "        def f():\n",
    "            return i * i\n",
    "        fs.append(f)\n",
    "    return fs\n",
    "\n",
    "f1,f2,f3 = count()\n",
    "print(f1())\n",
    "print(f2())\n",
    "print(f3())\n",
    "\n",
    "            "
   ]
  },
  {
   "cell_type": "markdown",
   "metadata": {},
   "source": [
    "## 出现的问题\n",
    "- 造成上述情况的原因是, 返回函数引用了变量i,  i并非立即执行, 而是等到三个函数都返回的时候才统一使用, 此时i已经变成3, 最终调用的时候, 返回的都是 3* 3\n",
    "\n",
    "- 此问题描述成: 返回闭包时, 返回函数不能引用任何循环变量\n",
    "- 解决方案: 在创建一个函数,用该函数的参数绑定循环变量的当前值,无论该循环变量以后如何改变,已绑定的函数参数值不再改变"
   ]
  },
  {
   "cell_type": "code",
   "execution_count": 15,
   "metadata": {},
   "outputs": [
    {
     "name": "stdout",
     "output_type": "stream",
     "text": [
      "1\n",
      "4\n",
      "9\n"
     ]
    }
   ],
   "source": [
    "# 修改函数\n",
    "\n",
    "def count1():\n",
    "    def f(n):\n",
    "        def g():\n",
    "            return n * n\n",
    "        return g\n",
    "    fs = []\n",
    "    for i in range(1,4):\n",
    "        fs.append(f(i))\n",
    "    return fs\n",
    "\n",
    "f1,f2,f3 = count1()\n",
    "print(f1())\n",
    "print(f2())\n",
    "print(f3())"
   ]
  },
  {
   "cell_type": "markdown",
   "metadata": {},
   "source": [
    " ## 装饰器( decrator )\n",
    " - 在不改动函数代码的基础上无限制扩展函数功能的一种机制,本质上讲,装饰器是一个返回函数的高阶函数\n",
    " - 装饰器的使用:  使用@ 语法, 即在每次要扩展到函数定义前使用@ + 函数名"
   ]
  },
  {
   "cell_type": "code",
   "execution_count": 19,
   "metadata": {
    "collapsed": true
   },
   "outputs": [],
   "source": [
    "# 现在有新的需求\n",
    "# 对helo函数进行功能扩展, 每次打印hello之前打印当前时间\n",
    "# 而实现这个功能又不能改动现有的代码\n",
    "# ===> 使用装饰器\n",
    "\n",
    "\n",
    "import time\n",
    "\n",
    "# 高阶函数, 以函数作为参数\n",
    "\n",
    "def printTime(f):\n",
    "    def wrapper(*args, **kwargs):\n",
    "        print(\"Time: \", time.ctime())\n",
    "        return f(*args, **kwargs)\n",
    "    return wrapper"
   ]
  },
  {
   "cell_type": "code",
   "execution_count": 20,
   "metadata": {},
   "outputs": [
    {
     "name": "stdout",
     "output_type": "stream",
     "text": [
      "Time:  Tue Jul 10 11:08:51 2018\n",
      "hello world\n"
     ]
    }
   ],
   "source": [
    "# 上面定义了装饰器,使用的时候需要用到@,  此符号是python的语法糖\n",
    "@printTime\n",
    "def hello():\n",
    "    print(\"hello world\")\n",
    "    \n",
    "hello()"
   ]
  },
  {
   "cell_type": "code",
   "execution_count": 22,
   "metadata": {},
   "outputs": [
    {
     "name": "stdout",
     "output_type": "stream",
     "text": [
      "Time:  Tue Jul 10 14:46:25 2018\n",
      "不开心,被骗了\n",
      "啥时候才能骗他一回啊\n"
     ]
    }
   ],
   "source": [
    "# 装饰器的好处是, 一旦定义, 则可以装饰任何函数\n",
    "# 一旦被其装饰, 则把装饰器的功能直接添加到第一函数的功能上\n",
    "\n",
    "@printTime\n",
    "def hello2():\n",
    "    print(\"不开心,被骗了\")\n",
    "    print(\"啥时候才能骗他一回啊\")\n",
    "    \n",
    "hello2()"
   ]
  },
  {
   "cell_type": "code",
   "execution_count": 27,
   "metadata": {},
   "outputs": [
    {
     "name": "stdout",
     "output_type": "stream",
     "text": [
      "我是手动执行的\n",
      "Time:  Tue Jul 10 14:50:15 2018\n",
      "我是手动执行的\n",
      "Time:  Tue Jul 10 14:50:15 2018\n",
      "Time:  Tue Jul 10 14:50:15 2018\n",
      "我是手动执行的\n"
     ]
    }
   ],
   "source": [
    "# 上面对函数的装饰使用了系统定义的语法糖\n",
    "# 下面手动执行下装饰器\n",
    "\n",
    "def hello3():\n",
    "    print(\"我是手动执行的\")\n",
    "    \n",
    "hello3()\n",
    "\n",
    "hello3 = printTime(hello3)\n",
    "hello3()\n",
    "\n",
    "f = printTime(hello3)\n",
    "f()"
   ]
  },
  {
   "cell_type": "markdown",
   "metadata": {},
   "source": [
    "### 偏函数"
   ]
  },
  {
   "cell_type": "code",
   "execution_count": 30,
   "metadata": {},
   "outputs": [
    {
     "data": {
      "text/plain": [
       "5349"
      ]
     },
     "execution_count": 30,
     "metadata": {},
     "output_type": "execute_result"
    }
   ],
   "source": [
    "# 把字符串转化成十进制的数字\n",
    "\n",
    "int(\"12345\")\n",
    "\n",
    "# 求八进制的字符串12345,表示成十进制的数字是多少\n",
    "int(\"12345\", base = 8)"
   ]
  },
  {
   "cell_type": "code",
   "execution_count": 31,
   "metadata": {},
   "outputs": [
    {
     "data": {
      "text/plain": [
       "74565"
      ]
     },
     "execution_count": 31,
     "metadata": {},
     "output_type": "execute_result"
    }
   ],
   "source": [
    "# 新建一个函数,此函数是默认输入的字符串是16进制数字\n",
    "# 把此字符串返回十进制数字\n",
    "\n",
    "def int16(x, base = 16):\n",
    "    return int(x, base)\n",
    "int16(\"12345\")"
   ]
  },
  {
   "cell_type": "markdown",
   "metadata": {},
   "source": [
    "### 偏函数\n",
    "- 参数固定的函数,相当于一个由特定参数的函数体\n",
    "- functools.partial 的作用是,把一个函数某些函数固定,返回一个新函数"
   ]
  },
  {
   "cell_type": "code",
   "execution_count": 33,
   "metadata": {},
   "outputs": [
    {
     "data": {
      "text/plain": [
       "74565"
      ]
     },
     "execution_count": 33,
     "metadata": {},
     "output_type": "execute_result"
    }
   ],
   "source": [
    "import functools\n",
    "# 实现上面int16的功能\n",
    "int16 = functools.partial(int, base = 16)\n",
    "\n",
    "int16(\"12345\")"
   ]
  },
  {
   "cell_type": "code",
   "execution_count": null,
   "metadata": {
    "collapsed": true
   },
   "outputs": [],
   "source": []
  },
  {
   "cell_type": "code",
   "execution_count": null,
   "metadata": {
    "collapsed": true
   },
   "outputs": [],
   "source": []
  },
  {
   "cell_type": "markdown",
   "metadata": {},
   "source": [
    "### zip\n",
    "- 把两个可迭代内容生成一个可迭代的 tuple 元素类型组成的内容"
   ]
  },
  {
   "cell_type": "code",
   "execution_count": 36,
   "metadata": {},
   "outputs": [
    {
     "name": "stdout",
     "output_type": "stream",
     "text": [
      "<class 'zip'>\n",
      "<zip object at 0x7ff1201de9c8>\n",
      "[(1, 11), (2, 22), (3, 33), (4, 44), (5, 55)]\n"
     ]
    }
   ],
   "source": [
    "# 案例\n",
    "\n",
    "l1 =[1,2,3,4,5]\n",
    "l2 = [11,22,33,44,55]\n",
    "\n",
    "z = zip(l1,l2)\n",
    "\n",
    "print(type(z))\n",
    "print(z)\n",
    "\n",
    "l3 = [i for i in z]\n",
    "print(l3)"
   ]
  },
  {
   "cell_type": "markdown",
   "metadata": {},
   "source": [
    "## enumerate\n",
    "- 跟zip功能比较像\n",
    "- 对可迭代对象里的每一个对象, 配上一个索引,然后索引和内容构成tuple类型"
   ]
  },
  {
   "cell_type": "code",
   "execution_count": 37,
   "metadata": {},
   "outputs": [
    {
     "name": "stdout",
     "output_type": "stream",
     "text": [
      "[(0, 11), (1, 22), (2, 33), (3, 44), (4, 55)]\n"
     ]
    }
   ],
   "source": [
    "#  enumerate案例\n",
    "\n",
    "l1 = [11,22,33,44,55]\n",
    "\n",
    "em = enumerate(l1)\n",
    "\n",
    "l2 = [i for i in em]\n",
    "print(l2)"
   ]
  },
  {
   "cell_type": "code",
   "execution_count": 39,
   "metadata": {},
   "outputs": [
    {
     "name": "stdout",
     "output_type": "stream",
     "text": [
      "[(100, 11), (101, 22), (102, 33), (103, 44), (104, 55)]\n"
     ]
    }
   ],
   "source": [
    "em = enumerate (l1, start = 100)\n",
    "\n",
    "l2 = [i for i in em]\n",
    "print(l2)"
   ]
  },
  {
   "cell_type": "code",
   "execution_count": null,
   "metadata": {
    "collapsed": true
   },
   "outputs": [],
   "source": []
  },
  {
   "cell_type": "markdown",
   "metadata": {},
   "source": [
    "# collections 模块\n",
    "-  namedtuple\n",
    "-  deque"
   ]
  },
  {
   "cell_type": "markdown",
   "metadata": {},
   "source": [
    "## namedtuple\n",
    "- tuple类型\n",
    "- 是一个可命名的tuple"
   ]
  },
  {
   "cell_type": "code",
   "execution_count": 42,
   "metadata": {},
   "outputs": [
    {
     "name": "stdout",
     "output_type": "stream",
     "text": [
      "Point(x=11, y=22)\n",
      "11\n",
      "11\n"
     ]
    }
   ],
   "source": [
    "import collections\n",
    "\n",
    "#help(collections.namedtuple)\n",
    "\n",
    "Point = collections.namedtuple(\"Point\", ['x', 'y'])\n",
    "p = Point(11, 22)\n",
    "print(p)\n",
    "print(p.x)\n",
    "print(p[0])"
   ]
  },
  {
   "cell_type": "code",
   "execution_count": 44,
   "metadata": {},
   "outputs": [
    {
     "name": "stdout",
     "output_type": "stream",
     "text": [
      "Circle(x=100, y=150, r=100)\n",
      "<class '__main__.Circle'>\n"
     ]
    }
   ],
   "source": [
    "Circle = collections.namedtuple(\"Circle\", ['x', 'y', 'r'])\n",
    "\n",
    "c = Circle(100, 150, 100)\n",
    "\n",
    "print(c)\n",
    "print(type(c))"
   ]
  },
  {
   "cell_type": "markdown",
   "metadata": {},
   "source": [
    "# deque\n",
    "- 比较方便的解决了频繁删除插入带来的效率问题"
   ]
  },
  {
   "cell_type": "code",
   "execution_count": 47,
   "metadata": {},
   "outputs": [
    {
     "name": "stdout",
     "output_type": "stream",
     "text": [
      "deque([1, 2, 3, 4, 5])\n",
      "deque([1, 2, 3, 4, 5, 6])\n",
      "deque([7, 1, 2, 3, 4, 5, 6])\n"
     ]
    }
   ],
   "source": [
    "from collections import deque\n",
    "q = deque([1,2,3,4,5])\n",
    "print(q)\n",
    "\n",
    "q.append(6)\n",
    "print(q)\n",
    "\n",
    "q.appendleft(7)\n",
    "print(q)"
   ]
  },
  {
   "cell_type": "markdown",
   "metadata": {},
   "source": [
    "# defaultdict\n",
    "- 当直接读取dict不存在的属性时, 直接返回默认值"
   ]
  },
  {
   "cell_type": "markdown",
   "metadata": {},
   "source": [
    "# Counter\n",
    "- 统计字符串的个数"
   ]
  },
  {
   "cell_type": "code",
   "execution_count": 49,
   "metadata": {},
   "outputs": [
    {
     "name": "stdout",
     "output_type": "stream",
     "text": [
      "Counter({'f': 5, 'g': 3, 'd': 3, 'h': 2, 't': 2, 's': 1, 'r': 1, 'y': 1})\n"
     ]
    }
   ],
   "source": [
    "from collections import Counter\n",
    "\n",
    "# 为什么下面结果不把jahsdjkhlk......作为键值, 而是以其中每一个字母作为键值\n",
    "# 需要括号里内容为可迭代\n",
    "c = Counter(\"hgfhgdfgfdstrdytff\")\n",
    "print(c)"
   ]
  },
  {
   "cell_type": "code",
   "execution_count": 52,
   "metadata": {},
   "outputs": [
    {
     "name": "stdout",
     "output_type": "stream",
     "text": [
      "Counter({'love': 3, 'qiaoyaodong': 1})\n"
     ]
    }
   ],
   "source": [
    "s = [\"qiaoyaodong\", \"love\", \"love\", \"love\"]\n",
    "c = Counter(s)\n",
    "print(c)"
   ]
  },
  {
   "cell_type": "code",
   "execution_count": null,
   "metadata": {
    "collapsed": true
   },
   "outputs": [],
   "source": []
  }
 ],
 "metadata": {
  "kernelspec": {
   "display_name": "Python 3",
   "language": "python",
   "name": "python3"
  },
  "language_info": {
   "codemirror_mode": {
    "name": "ipython",
    "version": 3
   },
   "file_extension": ".py",
   "mimetype": "text/x-python",
   "name": "python",
   "nbconvert_exporter": "python",
   "pygments_lexer": "ipython3",
   "version": "3.6.3"
  }
 },
 "nbformat": 4,
 "nbformat_minor": 2
}

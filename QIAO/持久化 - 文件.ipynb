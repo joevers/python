{
 "cells": [
  {
   "cell_type": "markdown",
   "metadata": {},
   "source": [
    "#  文件\n",
    "- 长久保存信息的一种数据信息集合\n",
    "- 常用操作\n",
    "    - 打开关闭(文件一旦打开,需要关闭操作)\n",
    "    - 读写内容\n",
    "    - 查找\n",
    "    \n",
    "# open 函数\n",
    "- open函数负责打开文件,带有很多参数\n",
    "- 第一个参数: 必须有,文件路径和名称\n",
    "- mode: 表明文件用什么方式打开\n",
    "    - r : 以只读的方式打开\n",
    "    - w:  写方式打开,会覆盖以前的内容\n",
    "    - x: 以创建方式打开,如文件已经存在,报错\n",
    "    - a: append方式,以追加的方式对文件内容进行写入\n",
    "    - b:  binary方式, 二进制方式写入\n",
    "    - t:  文本方式打开\n",
    "    - +:  可读写"
   ]
  },
  {
   "cell_type": "markdown",
   "metadata": {},
   "source": [
    "# with 语句\n",
    "- with语句使用的技术是一种成为上下文管理协议的技术\n",
    "- 自动判断文件的作用域,自动关闭不再使用的打开的文件"
   ]
  },
  {
   "cell_type": "code",
   "execution_count": 3,
   "metadata": {
    "collapsed": true
   },
   "outputs": [],
   "source": [
    "# 打开文件, 用写的方式\n",
    "# r表示后面字符串内容不需要转义\n",
    "# f称之为文件句柄\n",
    "\n",
    "f = open(r\"test01.txt\", 'w')\n",
    "# 文件打开后必须关闭\n",
    "f.close()\n",
    "\n",
    "# 上述说明,以写方式打开文件的时候,默认没有文件的话,则创建"
   ]
  },
  {
   "cell_type": "code",
   "execution_count": 6,
   "metadata": {
    "collapsed": true
   },
   "outputs": [],
   "source": [
    "# with案例\n",
    "with open(r\"test01.txt\", \"r\") as f:\n",
    "    pass\n",
    "# 在本模块中不需要使用close关闭文件f\n"
   ]
  },
  {
   "cell_type": "code",
   "execution_count": 10,
   "metadata": {},
   "outputs": [
    {
     "name": "stdout",
     "output_type": "stream",
     "text": [
      "假若他日相逢\n",
      "\n",
      "我将何以贺你\n",
      "\n",
      "以沉默\n",
      "\n",
      "以眼泪\n"
     ]
    }
   ],
   "source": [
    "\n",
    "#案例2\n",
    "\n",
    "with open(r\"test01.txt\", 'r') as f:\n",
    "    #安行读取内容\n",
    "    strline = f.readline()\n",
    "    # 次结构保证能够完整读取文件直到文件结束\n",
    "    while strline:\n",
    "        print(strline)\n",
    "        strline = f.readline()"
   ]
  },
  {
   "cell_type": "code",
   "execution_count": 2,
   "metadata": {},
   "outputs": [
    {
     "name": "stdout",
     "output_type": "stream",
     "text": [
      "假若他日相逢\n",
      "\n",
      "我将何以贺你\n",
      "\n",
      "以沉默\n",
      "\n",
      "以眼泪\n"
     ]
    }
   ],
   "source": [
    "# list能用打开的文件作为参数,把文件内每一行内容作为一个元素\n",
    "\n",
    "with open(r\"test01.txt\", 'r') as f:\n",
    "    # 以打开的问价f作为参数,创建列表\n",
    "    l = list(f)\n",
    "    for line in l:\n",
    "        print(line)"
   ]
  },
  {
   "cell_type": "code",
   "execution_count": 4,
   "metadata": {},
   "outputs": [
    {
     "name": "stdout",
     "output_type": "stream",
     "text": [
      "6\n",
      "假若他日相逢\n"
     ]
    }
   ],
   "source": [
    "# read 是按字符读取文件内容\n",
    "# 允许输入参数决定读取几个字符,如果没有制定, 从当前位置读取到结尾\n",
    "# 否则,从当前位置读取指定个数字符\n",
    "\n",
    "with open(r\"test01.txt\", 'r') as f:\n",
    "    strChar = f.read(6)\n",
    "    print(len(strChar))\n",
    "    print(strChar)"
   ]
  },
  {
   "cell_type": "markdown",
   "metadata": {},
   "source": [
    "# seek (offset, from)\n",
    "- 移动文件的读取位置,也叫读取指针\n",
    "- from 的取值范围:\n",
    "    - 0: 从文件头开始偏移\n",
    "    - 1: 从文件当前位置开始偏移\n",
    "    - 2: 从文件末尾开始偏移\n",
    "- 移动的单位是字节(byte)\n",
    "- 一个汉字由若干个字节构成\n",
    "- 返回指针只针对当前位置"
   ]
  },
  {
   "cell_type": "code",
   "execution_count": 6,
   "metadata": {},
   "outputs": [
    {
     "name": "stdout",
     "output_type": "stream",
     "text": [
      "若他日相逢\n",
      "我将何以贺你\n",
      "以沉默\n",
      "以眼泪\n"
     ]
    }
   ],
   "source": [
    "# seek 案例\n",
    "# 打开文件后从第五个字节读取\n",
    "\n",
    "# 打开读写指针在0处, 即文件的开头\n",
    "with open(r\"test01.txt\", 'r') as f:\n",
    "    # seek移动单位是字节\n",
    "    f.seek(3, 0)\n",
    "    strChar = f.read()\n",
    "    print(strChar)"
   ]
  },
  {
   "cell_type": "code",
   "execution_count": 9,
   "metadata": {},
   "outputs": [
    {
     "name": "stdout",
     "output_type": "stream",
     "text": [
      "假若他\n",
      "日相逢\n",
      "\n",
      "我将\n",
      "何以贺\n",
      "你\n",
      "以\n",
      "沉默\n",
      "\n",
      "以眼泪\n"
     ]
    }
   ],
   "source": [
    "# 打开文件,三个字符一组读出内容,然后显示在屏幕上\n",
    "# 每读取一次, 休息一秒钟\n",
    "\n",
    "#让程序暂停, 可以使用time下的sleep函数\n",
    "import time\n",
    "\n",
    "with open(r\"test01.txt\", 'r') as f:\n",
    "    strChar = f.read(3)\n",
    "    while strChar:\n",
    "        print(strChar)\n",
    "        time.sleep(1)\n",
    "        strChar = f.read(3)"
   ]
  },
  {
   "cell_type": "code",
   "execution_count": 11,
   "metadata": {},
   "outputs": [
    {
     "name": "stdout",
     "output_type": "stream",
     "text": [
      "9\n",
      "假若他\n",
      "18\n",
      "日相逢\n",
      "25\n",
      "\n",
      "我将\n",
      "34\n",
      "何以贺\n",
      "41\n",
      "你\n",
      "以\n",
      "48\n",
      "沉默\n",
      "\n",
      "57\n",
      "以眼泪\n"
     ]
    }
   ],
   "source": [
    "# tell 函数: 用来显示文件读写指针的当前位置\n",
    "with open(r\"test01.txt\", 'r') as f:\n",
    "    strChar = f.read(3)\n",
    "    pos = f.tell()\n",
    "    \n",
    "    while strChar:\n",
    "        print(pos)\n",
    "        print(strChar)\n",
    "        \n",
    "        strChar = f.read(3)\n",
    "        pos = f.tell()\n",
    "        \n",
    "\n",
    "# 以下结果说明:\n",
    "# tell的返回数字的单位是byte\n",
    "# read是以字符为单位"
   ]
  },
  {
   "cell_type": "markdown",
   "metadata": {},
   "source": [
    "#  文件的写操作 - write\n",
    "- write(str): 把字符串写入文件\n",
    "- writeline(str): 把字符串安行写入文件\n",
    "- 区别:\n",
    "    - write函数参数只能是字符串\n",
    "    - writelines参数可以是字符串,也可以是字符串序列"
   ]
  },
  {
   "cell_type": "code",
   "execution_count": 13,
   "metadata": {
    "collapsed": true
   },
   "outputs": [],
   "source": [
    "# write案例\n",
    "# 1. 向文件追加一句诗\n",
    "\n",
    "# a 代表以追加方式打开\n",
    "with open(r\"test01.txt\", 'a') as f:\n",
    "    # 注意字符串内有换行符\n",
    "    f.write(\"\\n生活不止眼前的苟且,\\n还有诗和远方的田野\")"
   ]
  },
  {
   "cell_type": "code",
   "execution_count": 19,
   "metadata": {},
   "outputs": [],
   "source": [
    "# 可以直接写入行, 用writelines\n",
    "# writelines\n",
    "\n",
    "#a 代表以追加方式打开\n",
    "with open(r\"test01.txt\", 'a') as f:\n",
    "    # 字符串内没有换行符\n",
    "    f.writelines(\"爱情就像一座城\")\n",
    "    f.writelines(\"城里面的人想出来,城外面的想进去\")"
   ]
  },
  {
   "cell_type": "code",
   "execution_count": 20,
   "metadata": {},
   "outputs": [],
   "source": [
    "l = [\"我的剑就是你的剑\",\"一个能打的都没有\"]\n",
    "\n",
    "with open(r\"test01.txt\", 'a') as f:\n",
    "    f.writelines(l)"
   ]
  },
  {
   "cell_type": "markdown",
   "metadata": {},
   "source": [
    "# 持久化  - pickle\n",
    "- 序列化 (持久化, 落地): 把程序运行中的信息保存在磁盘上\n",
    "- 反序列化: 序列化的逆过程\n",
    "- pickle: python提供的序列化的模块\n",
    "- pickle.dump: 序列化\n",
    "- pickle.load: 反序列化"
   ]
  },
  {
   "cell_type": "code",
   "execution_count": 21,
   "metadata": {
    "collapsed": true
   },
   "outputs": [],
   "source": [
    "# 序列化案例\n",
    " \n",
    "import pickle\n",
    "\n",
    "age = 19\n",
    "\n",
    "with open(r'test01.txt', 'wb') as f:\n",
    "    pickle.dump(age, f)"
   ]
  },
  {
   "cell_type": "code",
   "execution_count": 22,
   "metadata": {},
   "outputs": [
    {
     "name": "stdout",
     "output_type": "stream",
     "text": [
      "19\n"
     ]
    }
   ],
   "source": [
    "# 反序列化案例\n",
    " \n",
    "import pickle\n",
    "\n",
    "with open(r'test01.txt', 'rb') as f:\n",
    "    age = pickle.load(f)\n",
    "    print(age)"
   ]
  },
  {
   "cell_type": "code",
   "execution_count": 24,
   "metadata": {},
   "outputs": [],
   "source": [
    "# 序列化案例\n",
    " \n",
    "import pickle\n",
    "\n",
    "x = [19, 'qyd', 'i love wangxiaojing', [180,75]]\n",
    "\n",
    "with open(r'test01.txt', 'wb') as f:\n",
    "    pickle.dump(x, f)"
   ]
  },
  {
   "cell_type": "code",
   "execution_count": 25,
   "metadata": {},
   "outputs": [
    {
     "name": "stdout",
     "output_type": "stream",
     "text": [
      "[19, 'qyd', 'i love wangxiaojing', [180, 75]]\n"
     ]
    }
   ],
   "source": [
    "with open(r'test01.txt', 'rb') as f:\n",
    "    a = pickle.load(f)\n",
    "    print(a)"
   ]
  },
  {
   "cell_type": "markdown",
   "metadata": {},
   "source": [
    "# 持久化 - shelve\n",
    "- 持久化工具\n",
    "- 类似字典,用kv对保存数据, 存取方式跟字典也类似\n",
    "- open, close"
   ]
  },
  {
   "cell_type": "code",
   "execution_count": 29,
   "metadata": {},
   "outputs": [],
   "source": [
    "# 使用shelve创建文件并使用\n",
    "import shelve\n",
    "\n",
    "# 打开文件\n",
    "# shv相当于一个字典\n",
    "shv = shelve.open(r'shv.db')\n",
    "\n",
    "shv['one'] = 1\n",
    "shv['two'] = 2\n",
    "shv['three'] = 3\n",
    "\n",
    "shv.close()\n",
    "\n",
    "# 通过上述案例可以发现, shelve自动创建的不仅仅是一个shv.db文件,还包括其他的文件"
   ]
  },
  {
   "cell_type": "code",
   "execution_count": 32,
   "metadata": {},
   "outputs": [
    {
     "name": "stdout",
     "output_type": "stream",
     "text": [
      "1\n",
      "3\n"
     ]
    }
   ],
   "source": [
    "# shelve读取案例\n",
    "\n",
    "shv = shelve.open(r'shv.db')\n",
    "\n",
    "try:\n",
    "    print(shv['one'])\n",
    "    print(shv['three'])\n",
    "finally:\n",
    "    shv.close()"
   ]
  },
  {
   "cell_type": "markdown",
   "metadata": {},
   "source": [
    "# shelve 特性\n",
    "- 不支持多个应用并行写入\n",
    "    - 为了解决这个问题, open的时候可以使用flag=r\n",
    "- 写回问题\n",
    "    - shelve写入情况下不会等待持久化对象进行任何修改\n",
    "    - 解决方法: 强制写回: writeback=True"
   ]
  },
  {
   "cell_type": "code",
   "execution_count": null,
   "metadata": {
    "collapsed": true
   },
   "outputs": [],
   "source": []
  },
  {
   "cell_type": "code",
   "execution_count": null,
   "metadata": {
    "collapsed": true
   },
   "outputs": [],
   "source": []
  },
  {
   "cell_type": "code",
   "execution_count": null,
   "metadata": {
    "collapsed": true
   },
   "outputs": [],
   "source": []
  }
 ],
 "metadata": {
  "kernelspec": {
   "display_name": "Python 3",
   "language": "python",
   "name": "python3"
  }
 },
 "nbformat": 4,
 "nbformat_minor": 2
}

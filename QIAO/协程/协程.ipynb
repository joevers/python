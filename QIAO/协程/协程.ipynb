{
 "cells": [
  {
   "cell_type": "markdown",
   "metadata": {},
   "source": [
    "# 协程\n",
    "\n",
    "# 迭代器\n",
    "- 可迭代:直接作用与for循环的变量\n",
    "- 迭代器:不但可以作用于for循环,还可以被nxet调用\n",
    "- list 是个典型的可迭代对象,但不是迭代器\n",
    "- 通过isinstance判断\n",
    "- iterable和iterator可以相互转换\n",
    "    - 通过iter函数"
   ]
  },
  {
   "cell_type": "code",
   "execution_count": 2,
   "metadata": {},
   "outputs": [
    {
     "name": "stdout",
     "output_type": "stream",
     "text": [
      "0\n",
      "1\n",
      "2\n",
      "3\n",
      "4\n",
      "5\n",
      "6\n",
      "7\n",
      "8\n",
      "9\n",
      "0\n",
      "1\n",
      "2\n",
      "3\n",
      "4\n"
     ]
    }
   ],
   "source": [
    "# 可迭代\n",
    "l = [i for i in range(10)]\n",
    "\n",
    "for a in l:\n",
    "    print(a)\n",
    "    \n",
    "\n",
    "    \n",
    "# range 是个迭代器\n",
    "for i in range(5):\n",
    "    print(i)\n"
   ]
  },
  {
   "cell_type": "code",
   "execution_count": 6,
   "metadata": {},
   "outputs": [
    {
     "name": "stdout",
     "output_type": "stream",
     "text": [
      "True\n",
      "False\n"
     ]
    }
   ],
   "source": [
    "# isinstance案例\n",
    "# 判断某个变量是否是一个实例\n",
    "\n",
    "# 判断是否可迭代\n",
    "\n",
    "from collections import Iterable\n",
    "ll = [1,2,3,4,5]\n",
    "print(isinstance(ll, Iterable))\n",
    "\n",
    "from collections import Iterator\n",
    "print(isinstance(ll, Iterator))"
   ]
  },
  {
   "cell_type": "code",
   "execution_count": 9,
   "metadata": {},
   "outputs": [
    {
     "name": "stdout",
     "output_type": "stream",
     "text": [
      "True\n",
      "False\n",
      "True\n",
      "True\n"
     ]
    }
   ],
   "source": [
    "# iter 函数\n",
    "s = \"i love wangxaiojing\"\n",
    "\n",
    "print(isinstance(s, Iterable))\n",
    "print(isinstance(s, Iterator))\n",
    "\n",
    "s_iter = iter(s)\n",
    "print(isinstance(s_iter, Iterable))\n",
    "print(isinstance(s_iter, Iterator))\n"
   ]
  },
  {
   "cell_type": "markdown",
   "metadata": {},
   "source": [
    "# 生成器\n",
    "- generator: 一边循环一边计算下一个元素的机制/算法\n",
    "- 需要满足三个条件:\n",
    "    - 每次调用都产生出for循环需要的下一个元素\n",
    "    - 如果达到最后一个后,爆出StopIteration异常\n",
    "    - 可以被next调用\n",
    "- 如何生成一个生成器\n",
    "    - 直接使用\n",
    "    - 如果函数中包含yield, 则这个函数就叫生成器\n",
    "    - next调用函数,遇到yield返回\n"
   ]
  },
  {
   "cell_type": "code",
   "execution_count": 1,
   "metadata": {},
   "outputs": [
    {
     "name": "stdout",
     "output_type": "stream",
     "text": [
      "<class 'list'>\n",
      "<class 'generator'>\n"
     ]
    }
   ],
   "source": [
    "# 直接使用生成器\n",
    "L = [x*x for x in range(5)]  # 放在中括号里是列表生成器\n",
    "g = (x*x for x in range(5))  # 放在小括号里是生成器\n",
    "\n",
    "print(type(L))\n",
    "print(type(g))"
   ]
  },
  {
   "cell_type": "code",
   "execution_count": 2,
   "metadata": {},
   "outputs": [
    {
     "name": "stdout",
     "output_type": "stream",
     "text": [
      "Step 1\n",
      "Step 2\n",
      "Step 3\n"
     ]
    }
   ],
   "source": [
    "# 函数案例\n",
    "\n",
    "def odd():\n",
    "    print(\"Step 1\")\n",
    "    print(\"Step 2\")\n",
    "    print(\"Step 3\")\n",
    "    return None\n",
    "\n",
    "odd()"
   ]
  },
  {
   "cell_type": "code",
   "execution_count": 5,
   "metadata": {},
   "outputs": [
    {
     "name": "stdout",
     "output_type": "stream",
     "text": [
      "Step 1\n",
      "1\n",
      "Step 2\n",
      "2\n",
      "Step 3\n",
      "3\n"
     ]
    }
   ],
   "source": [
    "# 生成器的案例\n",
    "# 在函数odd中,yield负责返回\n",
    "def odd():\n",
    "    print(\"Step 1\")\n",
    "    yield 1\n",
    "    print(\"Step 2\")\n",
    "    yield 2\n",
    "    print(\"Step 3\")\n",
    "    yield 3\n",
    "\n",
    "# odd()是调用生成器 \n",
    "g = odd()\n",
    "one = next(g)\n",
    "print(one)\n",
    "\n",
    "two = next(g)\n",
    "print(two)\n",
    "\n",
    "three = next(g)\n",
    "print(three)"
   ]
  },
  {
   "cell_type": "code",
   "execution_count": 6,
   "metadata": {},
   "outputs": [
    {
     "name": "stdout",
     "output_type": "stream",
     "text": [
      "1\n",
      "1\n",
      "2\n",
      "3\n",
      "5\n"
     ]
    },
    {
     "data": {
      "text/plain": [
       "'Done'"
      ]
     },
     "execution_count": 6,
     "metadata": {},
     "output_type": "execute_result"
    }
   ],
   "source": [
    "# for 循环调用生成器\n",
    "def fib(max):\n",
    "    n, a, b = 0, 0, 1\n",
    "    while n < max:\n",
    "        print(b)\n",
    "        a, b = b, b+a\n",
    "        n += 1 \n",
    "    \n",
    "    return 'Done'\n",
    "\n",
    "fib(5)"
   ]
  },
  {
   "cell_type": "code",
   "execution_count": 7,
   "metadata": {},
   "outputs": [
    {
     "name": "stdout",
     "output_type": "stream",
     "text": [
      "1\n",
      "1\n",
      "2\n",
      "3\n",
      "5\n"
     ]
    },
    {
     "ename": "TypeError",
     "evalue": "'str' object is not an iterator",
     "output_type": "error",
     "traceback": [
      "\u001b[0;31m---------------------------------------------------------------------------\u001b[0m",
      "\u001b[0;31mTypeError\u001b[0m                                 Traceback (most recent call last)",
      "\u001b[0;32m<ipython-input-7-5b2c30b04fae>\u001b[0m in \u001b[0;36m<module>\u001b[0;34m()\u001b[0m\n\u001b[1;32m     12\u001b[0m \u001b[0;34m\u001b[0m\u001b[0m\n\u001b[1;32m     13\u001b[0m \u001b[0;32mfor\u001b[0m \u001b[0mi\u001b[0m \u001b[0;32min\u001b[0m \u001b[0mrange\u001b[0m\u001b[0;34m(\u001b[0m\u001b[0;36m6\u001b[0m\u001b[0;34m)\u001b[0m\u001b[0;34m:\u001b[0m\u001b[0;34m\u001b[0m\u001b[0m\n\u001b[0;32m---> 14\u001b[0;31m     \u001b[0mrst\u001b[0m \u001b[0;34m=\u001b[0m \u001b[0mnext\u001b[0m\u001b[0;34m(\u001b[0m\u001b[0mg\u001b[0m\u001b[0;34m)\u001b[0m\u001b[0;34m\u001b[0m\u001b[0m\n\u001b[0m\u001b[1;32m     15\u001b[0m     \u001b[0mprint\u001b[0m\u001b[0;34m(\u001b[0m\u001b[0mrst\u001b[0m\u001b[0;34m)\u001b[0m\u001b[0;34m\u001b[0m\u001b[0m\n",
      "\u001b[0;31mTypeError\u001b[0m: 'str' object is not an iterator"
     ]
    }
   ],
   "source": [
    "# 斐波那契数列的生成器的写法\n",
    "def fib(max):\n",
    "    n, a, b = 0, 0, 1\n",
    "    while n < max:\n",
    "        print(b)\n",
    "        a, b = b, b+a\n",
    "        n += 1 \n",
    "    \n",
    "    return 'Done'\n",
    "\n",
    "g = fib(5)\n",
    "\n",
    "for i in range(6):\n",
    "    rst = next(g)\n",
    "    print(rst)"
   ]
  },
  {
   "cell_type": "code",
   "execution_count": 8,
   "metadata": {},
   "outputs": [
    {
     "name": "stdout",
     "output_type": "stream",
     "text": [
      "1\n",
      "1\n",
      "2\n",
      "3\n",
      "5\n",
      "8\n",
      "13\n",
      "21\n",
      "34\n",
      "55\n",
      "D\n",
      "o\n",
      "n\n",
      "e\n"
     ]
    }
   ],
   "source": [
    "ge = fib(10)\n",
    "'''\n",
    "生成器的典型用法就是在for中使用\n",
    "比较常用的典型生成器就是 range\n",
    "'''\n",
    "for i in ge :\n",
    "    print(i)"
   ]
  },
  {
   "cell_type": "markdown",
   "metadata": {},
   "source": [
    " # 协程\n",
    " - 历史历程\n",
    "     - 3.4引入协程, 用yield实现\n",
    "     - 3.5引入协程语法\n",
    "     - 实现协程比较好的包有 asyncio, tornado, gevent\n",
    " - 从技术角度讲,协程就是一个你可以暂停执行的函数,或者干脆把协程理解为生成器\n",
    " - 协程的实现\n",
    "     - yield返回\n",
    "     - send调用\n",
    "- 协程的四个状态\n",
    "    - 详见 课程笔记\n",
    "- 协程终止\n",
    "    - 协程中未处理的异常会向上冒泡,传给 next 函数或者 send 方法的调用方(即出发协程的对象)\n",
    "    - 终止协程的一种方式:发送某个哨符值, 让协程退出. 内置的 None 和 Ellipsis 等常量经常用作哨符值==\n",
    "- yield from\n",
    "    - 调用协程为了得到返回值,携程必须正常终止\n",
    "    - 生成器正常终止会发出StopIteration异常,异常对象的value属性保存返回值\n",
    "    - yield from 从内部捕获StopIteration异常\n",
    "    - 案例v03\n",
    "    - 委派生成器\n",
    "        - 包含yield from表达式的生成器函数\n",
    "        - 委派生成器在yield from表达式处暂停, 调用方可以直接把数据发给子生成器\n",
    "        - 子生成器再把产出的值发给调用方\n",
    "        - 子生成器在最后,解释器会抛出StopIteration, 并把返回值附加到异常对象上\n",
    "        "
   ]
  },
  {
   "cell_type": "code",
   "execution_count": 10,
   "metadata": {},
   "outputs": [
    {
     "name": "stdout",
     "output_type": "stream",
     "text": [
      "1111\n",
      "-> start\n",
      "2222\n",
      "-> recived zhexiao\n"
     ]
    },
    {
     "ename": "StopIteration",
     "evalue": "",
     "output_type": "error",
     "traceback": [
      "\u001b[0;31m---------------------------------------------------------------------------\u001b[0m",
      "\u001b[0;31mStopIteration\u001b[0m                             Traceback (most recent call last)",
      "\u001b[0;32m<ipython-input-10-60840fffeb64>\u001b[0m in \u001b[0;36m<module>\u001b[0;34m()\u001b[0m\n\u001b[1;32m     12\u001b[0m \u001b[0;34m\u001b[0m\u001b[0m\n\u001b[1;32m     13\u001b[0m \u001b[0mprint\u001b[0m\u001b[0;34m(\u001b[0m\u001b[0;36m2222\u001b[0m\u001b[0;34m)\u001b[0m\u001b[0;34m\u001b[0m\u001b[0m\n\u001b[0;32m---> 14\u001b[0;31m \u001b[0msc\u001b[0m\u001b[0;34m.\u001b[0m\u001b[0msend\u001b[0m\u001b[0;34m(\u001b[0m\u001b[0;34m'zhexiao'\u001b[0m\u001b[0;34m)\u001b[0m\u001b[0;34m\u001b[0m\u001b[0m\n\u001b[0m",
      "\u001b[0;31mStopIteration\u001b[0m: "
     ]
    }
   ],
   "source": [
    "# 协程代码\n",
    "def simple_coroutine():\n",
    "    print('-> start')\n",
    "    x = yield\n",
    "    print('-> recived', x)\n",
    "    \n",
    "# 主线程\n",
    "sc = simple_coroutine()\n",
    "print(1111)\n",
    "# 可以使用sc.send(None), 效果一样\n",
    "next(sc) # 预激\n",
    "\n",
    "print(2222)\n",
    "sc.send('zhexiao')"
   ]
  },
  {
   "cell_type": "code",
   "execution_count": 11,
   "metadata": {},
   "outputs": [
    {
     "name": "stdout",
     "output_type": "stream",
     "text": [
      "-> start\n",
      "5\n",
      "-> recived 5 6\n",
      "11\n",
      "-> recived 5 6 7\n"
     ]
    },
    {
     "ename": "StopIteration",
     "evalue": "",
     "output_type": "error",
     "traceback": [
      "\u001b[0;31m---------------------------------------------------------------------------\u001b[0m",
      "\u001b[0;31mStopIteration\u001b[0m                             Traceback (most recent call last)",
      "\u001b[0;32m<ipython-input-11-9c50f3811514>\u001b[0m in \u001b[0;36m<module>\u001b[0;34m()\u001b[0m\n\u001b[1;32m     17\u001b[0m \u001b[0mbb\u001b[0m \u001b[0;34m=\u001b[0m \u001b[0msc\u001b[0m\u001b[0;34m.\u001b[0m\u001b[0msend\u001b[0m\u001b[0;34m(\u001b[0m\u001b[0;36m6\u001b[0m\u001b[0;34m)\u001b[0m \u001b[0;31m#5, 6\u001b[0m\u001b[0;34m\u001b[0m\u001b[0m\n\u001b[1;32m     18\u001b[0m \u001b[0mprint\u001b[0m\u001b[0;34m(\u001b[0m\u001b[0mbb\u001b[0m\u001b[0;34m)\u001b[0m\u001b[0;34m\u001b[0m\u001b[0m\n\u001b[0;32m---> 19\u001b[0;31m \u001b[0mcc\u001b[0m \u001b[0;34m=\u001b[0m \u001b[0msc\u001b[0m\u001b[0;34m.\u001b[0m\u001b[0msend\u001b[0m\u001b[0;34m(\u001b[0m\u001b[0;36m7\u001b[0m\u001b[0;34m)\u001b[0m  \u001b[0;31m#5, 6, 7\u001b[0m\u001b[0;34m\u001b[0m\u001b[0m\n\u001b[0m\u001b[1;32m     20\u001b[0m \u001b[0mprint\u001b[0m\u001b[0;34m(\u001b[0m\u001b[0mcc\u001b[0m\u001b[0;34m)\u001b[0m\u001b[0;34m\u001b[0m\u001b[0m\n",
      "\u001b[0;31mStopIteration\u001b[0m: "
     ]
    }
   ],
   "source": [
    "# 协程的状态\n",
    "\n",
    "def simple_coroutine(a):\n",
    "    print('-> start')\n",
    "    \n",
    "    b = yield a \n",
    "    print('-> recived', a, b)\n",
    "    \n",
    "    c = yield a + b\n",
    "    print('-> recived', a, b, c)\n",
    "    \n",
    "# runc\n",
    "sc = simple_coroutine(5)\n",
    "\n",
    "aa = next(sc)\n",
    "print(aa)\n",
    "bb = sc.send(6) #5, 6\n",
    "print(bb)\n",
    "cc = sc.send(7)  #5, 6, 7\n",
    "print(cc)"
   ]
  },
  {
   "cell_type": "code",
   "execution_count": 13,
   "metadata": {},
   "outputs": [
    {
     "name": "stdout",
     "output_type": "stream",
     "text": [
      "['A', 'B']\n",
      "['A', 'B']\n"
     ]
    }
   ],
   "source": [
    "# 案例v03\n",
    "\n",
    "def gen():\n",
    "    for c in \"AB\":\n",
    "        yield c\n",
    "        \n",
    "# list 直接用生成器作为参数\n",
    "print(list(gen()))\n",
    "\n",
    "def gen_new():\n",
    "    yield from \"AB\"\n",
    "    \n",
    "print(list(gen_new()))"
   ]
  },
  {
   "cell_type": "code",
   "execution_count": 31,
   "metadata": {},
   "outputs": [
    {
     "name": "stdout",
     "output_type": "stream",
     "text": [
      "{'boys_2': Res(count=9, average=40.422222222222224), 'boys_1': Res(count=9, average=1.3888888888888888)}\n"
     ]
    }
   ],
   "source": [
    "# 案例v04, 委派生成器\n",
    "from collections import namedtuple\n",
    "\n",
    "'''\n",
    "\n",
    "\n",
    "'''\n",
    "ResClass = namedtuple('Res', 'count average')\n",
    "\n",
    "# 子生成器\n",
    "def averager():\n",
    "    total = 0.0\n",
    "    count = 0\n",
    "    average = None\n",
    "    \n",
    "    while True:\n",
    "        term = yield\n",
    "        # None是哨兵值\n",
    "        if term is None:\n",
    "            break\n",
    "        total += term\n",
    "        count += 1\n",
    "        average = total / count\n",
    "        \n",
    "    return ResClass(count, average)\n",
    "\n",
    "# 委派生成器\n",
    "def grouper(storages, key):\n",
    "    while True:\n",
    "        # 获取averager()返回的值\n",
    "        storages[key] = yield from averager()\n",
    "        \n",
    "# 客户端代码\n",
    "def client():\n",
    "    process_data = {\n",
    "        'boys_2': [39.0, 40.8, 43.2, 40.8, 43.1, 38.6, 41.4, 40.6, 36.3],\n",
    "        'boys_1': [1.38, 1.5, 1.32, 1.25, 1.37, 1.48, 1.25, 1.49, 1.46]\n",
    "    }\n",
    "    \n",
    "    storages = {}\n",
    "    for k, v in process_data.items():\n",
    "        # 获得协程\n",
    "        coroutine = grouper(storages, k)\n",
    "        \n",
    "        # 预激协程\n",
    "        next(coroutine)\n",
    "        \n",
    "        # 发送数据到协程\n",
    "        for dt in v:\n",
    "            coroutine.send(dt)\n",
    "            \n",
    "        # 终止协程\n",
    "        coroutine.send(None)\n",
    "    print(storages)\n",
    "    \n",
    "\n",
    "# run\n",
    "client()"
   ]
  },
  {
   "cell_type": "markdown",
   "metadata": {},
   "source": [
    "# asyncio\n",
    "- python3.4开始引入标准库当中,内置对异步io的支持\n",
    "- asyncio本身是一个消息循环\n",
    "- 步骤:\n",
    "    - 创建消息循环\n",
    "    - 把携程导入\n",
    "    - 关闭"
   ]
  },
  {
   "cell_type": "code",
   "execution_count": 35,
   "metadata": {},
   "outputs": [
    {
     "name": "stdout",
     "output_type": "stream",
     "text": [
      "hello world!(<_MainThread(MainThread, started 139982593656576)>)\n",
      "Start......(<_MainThread(MainThread, started 139982593656576)>)\n",
      "hello world!(<_MainThread(MainThread, started 139982593656576)>)\n",
      "Start......(<_MainThread(MainThread, started 139982593656576)>)\n",
      "done......(<_MainThread(MainThread, started 139982593656576)>)\n",
      "hello again!(<_MainThread(MainThread, started 139982593656576)>)\n",
      "done......(<_MainThread(MainThread, started 139982593656576)>)\n",
      "hello again!(<_MainThread(MainThread, started 139982593656576)>)\n"
     ]
    }
   ],
   "source": [
    "import threading\n",
    "# 引入异步io包\n",
    "import asyncio\n",
    "\n",
    "# 使用携程\n",
    "@asyncio.coroutine\n",
    "def hello():\n",
    "    print('hello world!(%s)'%threading.currentThread())\n",
    "    print('Start......(%s)'%threading.currentThread())\n",
    "    yield from asyncio.sleep(10)\n",
    "    print('done......(%s)'%threading.currentThread())\n",
    "    print('hello again!(%s)'%threading.currentThread())\n",
    "\n",
    "# 启动消息循环    \n",
    "loop = asyncio.get_event_loop()\n",
    "# 定义任务\n",
    "tasks = [hello(), hello()]\n",
    "# asyncio使用wait等待tasks执行完毕\n",
    "loop.run_until_complete(asyncio.wait(tasks))\n",
    "# 关闭消息循环\n",
    "loop.close()"
   ]
  },
  {
   "cell_type": "markdown",
   "metadata": {},
   "source": [
    "# async  and  await\n",
    "- 为了更好的表示异步io\n",
    "- python3.5引入\n",
    "- 让携程代码更简洁\n",
    "- 使用上,可以简单地进行替换\n",
    "    - 用async替换@asyncio.coroutine\n",
    "    - await 替换 yield from"
   ]
  },
  {
   "cell_type": "code",
   "execution_count": 42,
   "metadata": {},
   "outputs": [
    {
     "name": "stderr",
     "output_type": "stream",
     "text": [
      "namedtuple_TokenInfo:14: RuntimeWarning: coroutine 'hello' was never awaited\n",
      "/var/sw/anaconda3/lib/python3.6/site-packages/ipykernel_launcher.py:19: RuntimeWarning: coroutine 'hello' was never awaited\n"
     ]
    },
    {
     "ename": "RuntimeError",
     "evalue": "Event loop is closed",
     "output_type": "error",
     "traceback": [
      "\u001b[0;31m---------------------------------------------------------------------------\u001b[0m",
      "\u001b[0;31mRuntimeError\u001b[0m                              Traceback (most recent call last)",
      "\u001b[0;32m<ipython-input-42-e7335f4bbbe2>\u001b[0m in \u001b[0;36m<module>\u001b[0;34m()\u001b[0m\n\u001b[1;32m     19\u001b[0m \u001b[0mtasks\u001b[0m \u001b[0;34m=\u001b[0m \u001b[0;34m[\u001b[0m\u001b[0mhello\u001b[0m\u001b[0;34m(\u001b[0m\u001b[0;34m)\u001b[0m\u001b[0;34m,\u001b[0m \u001b[0mhello\u001b[0m\u001b[0;34m(\u001b[0m\u001b[0;34m)\u001b[0m\u001b[0;34m]\u001b[0m\u001b[0;34m\u001b[0m\u001b[0m\n\u001b[1;32m     20\u001b[0m \u001b[0;31m# asyncio使用wait等待tasks执行完毕\u001b[0m\u001b[0;34m\u001b[0m\u001b[0;34m\u001b[0m\u001b[0m\n\u001b[0;32m---> 21\u001b[0;31m \u001b[0mloop\u001b[0m\u001b[0;34m.\u001b[0m\u001b[0mrun_until_complete\u001b[0m\u001b[0;34m(\u001b[0m\u001b[0masyncio\u001b[0m\u001b[0;34m.\u001b[0m\u001b[0mwait\u001b[0m\u001b[0;34m(\u001b[0m\u001b[0mtasks\u001b[0m\u001b[0;34m)\u001b[0m\u001b[0;34m)\u001b[0m\u001b[0;34m\u001b[0m\u001b[0m\n\u001b[0m\u001b[1;32m     22\u001b[0m \u001b[0;31m# 关闭消息循环\u001b[0m\u001b[0;34m\u001b[0m\u001b[0;34m\u001b[0m\u001b[0m\n\u001b[1;32m     23\u001b[0m \u001b[0mloop\u001b[0m\u001b[0;34m.\u001b[0m\u001b[0mclose\u001b[0m\u001b[0;34m(\u001b[0m\u001b[0;34m)\u001b[0m\u001b[0;34m\u001b[0m\u001b[0m\n",
      "\u001b[0;32m/var/sw/anaconda3/lib/python3.6/asyncio/base_events.py\u001b[0m in \u001b[0;36mrun_until_complete\u001b[0;34m(self, future)\u001b[0m\n\u001b[1;32m    441\u001b[0m         \u001b[0mReturn\u001b[0m \u001b[0mthe\u001b[0m \u001b[0mFuture\u001b[0m\u001b[0;31m'\u001b[0m\u001b[0ms\u001b[0m \u001b[0mresult\u001b[0m\u001b[0;34m,\u001b[0m \u001b[0;32mor\u001b[0m \u001b[0;32mraise\u001b[0m \u001b[0mits\u001b[0m \u001b[0mexception\u001b[0m\u001b[0;34m.\u001b[0m\u001b[0;34m\u001b[0m\u001b[0m\n\u001b[1;32m    442\u001b[0m         \"\"\"\n\u001b[0;32m--> 443\u001b[0;31m         \u001b[0mself\u001b[0m\u001b[0;34m.\u001b[0m\u001b[0m_check_closed\u001b[0m\u001b[0;34m(\u001b[0m\u001b[0;34m)\u001b[0m\u001b[0;34m\u001b[0m\u001b[0m\n\u001b[0m\u001b[1;32m    444\u001b[0m \u001b[0;34m\u001b[0m\u001b[0m\n\u001b[1;32m    445\u001b[0m         \u001b[0mnew_task\u001b[0m \u001b[0;34m=\u001b[0m \u001b[0;32mnot\u001b[0m \u001b[0mfutures\u001b[0m\u001b[0;34m.\u001b[0m\u001b[0misfuture\u001b[0m\u001b[0;34m(\u001b[0m\u001b[0mfuture\u001b[0m\u001b[0;34m)\u001b[0m\u001b[0;34m\u001b[0m\u001b[0m\n",
      "\u001b[0;32m/var/sw/anaconda3/lib/python3.6/asyncio/base_events.py\u001b[0m in \u001b[0;36m_check_closed\u001b[0;34m(self)\u001b[0m\n\u001b[1;32m    355\u001b[0m     \u001b[0;32mdef\u001b[0m \u001b[0m_check_closed\u001b[0m\u001b[0;34m(\u001b[0m\u001b[0mself\u001b[0m\u001b[0;34m)\u001b[0m\u001b[0;34m:\u001b[0m\u001b[0;34m\u001b[0m\u001b[0m\n\u001b[1;32m    356\u001b[0m         \u001b[0;32mif\u001b[0m \u001b[0mself\u001b[0m\u001b[0;34m.\u001b[0m\u001b[0m_closed\u001b[0m\u001b[0;34m:\u001b[0m\u001b[0;34m\u001b[0m\u001b[0m\n\u001b[0;32m--> 357\u001b[0;31m             \u001b[0;32mraise\u001b[0m \u001b[0mRuntimeError\u001b[0m\u001b[0;34m(\u001b[0m\u001b[0;34m'Event loop is closed'\u001b[0m\u001b[0;34m)\u001b[0m\u001b[0;34m\u001b[0m\u001b[0m\n\u001b[0m\u001b[1;32m    358\u001b[0m \u001b[0;34m\u001b[0m\u001b[0m\n\u001b[1;32m    359\u001b[0m     \u001b[0;32mdef\u001b[0m \u001b[0m_asyncgen_finalizer_hook\u001b[0m\u001b[0;34m(\u001b[0m\u001b[0mself\u001b[0m\u001b[0;34m,\u001b[0m \u001b[0magen\u001b[0m\u001b[0;34m)\u001b[0m\u001b[0;34m:\u001b[0m\u001b[0;34m\u001b[0m\u001b[0m\n",
      "\u001b[0;31mRuntimeError\u001b[0m: Event loop is closed"
     ]
    }
   ],
   "source": [
    "# 案例\n",
    "\n",
    "import threading\n",
    "# 引入异步io包\n",
    "import asyncio\n",
    "\n",
    "# 使用携程\n",
    "#@asyncio.coroutine\n",
    "async def hello():\n",
    "    print('hello world!(%s)'%threading.currentThread())\n",
    "    print('Start......(%s)'%threading.currentThread())\n",
    "    await asyncio.sleep(10)\n",
    "    print('done......(%s)'%threading.currentThread())\n",
    "    print('hello again!(%s)'%threading.currentThread())\n",
    "\n",
    "# 启动消息循环    \n",
    "loop = asyncio.get_event_loop()\n",
    "# 定义任务\n",
    "tasks = [hello(), hello()]\n",
    "# asyncio使用wait等待tasks执行完毕\n",
    "loop.run_until_complete(asyncio.wait(tasks))\n",
    "# 关闭消息循环\n",
    "loop.close()"
   ]
  },
  {
   "cell_type": "markdown",
   "metadata": {},
   "source": [
    "# aiohttp\n",
    "- asyncio实现单线程的并发io,在客户端用处不大\n",
    "- 在服务器端可以asyncio+coroutine配合,因为http是io操作\n",
    "- asyncio实现了tcp, udp, ssl等协议\n",
    "- aiohttp是给予asyncio实现的http框架\n",
    "- pip install aiohttp安装"
   ]
  },
  {
   "cell_type": "code",
   "execution_count": 43,
   "metadata": {
    "collapsed": true
   },
   "outputs": [],
   "source": [
    "# aiohttp案例\n",
    "\n",
    "# 见课程笔记"
   ]
  },
  {
   "cell_type": "markdown",
   "metadata": {},
   "source": [
    "# concurrent.futures\n",
    "- python3新增的库\n",
    "- 类似其他语言线程池的概念\n",
    "- 利用multiprocessiong实现真正的并行计算\n",
    "- 核心原理: 以子进程的形式,并行运行多个python解释器, 从而令python程序可以利用多核cpu来提升执行速度.\n",
    "- 由于子进程与主解释器相分离,所以他们的全局解释器锁也是相互独立的.\n",
    "- 每个子进程都能够完整的使用一个cpu内核\n",
    "- concurrent.futures.Executor\n",
    "    - ThreadPoolExecutor\n",
    "    - ProcessPoolExecutor\n",
    "    - 执行的时候需要自行选择\n",
    "- submit(fn, args, kwargs)\n",
    "    - fn:异步执行的函数\n",
    "    - args, kwargs参数"
   ]
  },
  {
   "cell_type": "markdown",
   "metadata": {},
   "source": [
    "# current中map函数\n",
    "- map(fn, \\*iterables, timeout=None)\n",
    "    - 跟map函数类似\n",
    "    - 函数需要异步执行\n",
    "    - timeout: 超时时间\n",
    "    \n",
    "# future\n"
   ]
  }
 ],
 "metadata": {
  "kernelspec": {
   "display_name": "Python 3",
   "language": "python",
   "name": "python3"
  },
  "language_info": {
   "codemirror_mode": {
    "name": "ipython",
    "version": 3
   },
   "file_extension": ".py",
   "mimetype": "text/x-python",
   "name": "python",
   "nbconvert_exporter": "python",
   "pygments_lexer": "ipython3",
   "version": "3.6.3"
  }
 },
 "nbformat": 4,
 "nbformat_minor": 2
}

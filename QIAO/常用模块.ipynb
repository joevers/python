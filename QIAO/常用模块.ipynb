{
 "cells": [
  {
   "cell_type": "markdown",
   "metadata": {},
   "source": [
    "# 常用模块\n",
    "- calendar\n",
    "- time\n",
    "- datetime\n",
    "- timeit\n",
    "- os\n",
    "- shutil\n",
    "- zip\n",
    "- math\n",
    "- string\n",
    "\n",
    "- 上述所有模块的使用理论上都应该先导入,string除外\n",
    "- calendar, time, datetime 的区别参考中文意思即可"
   ]
  },
  {
   "cell_type": "markdown",
   "metadata": {},
   "source": [
    "# calendar\n",
    "- 跟日历相关的模块\n",
    "- "
   ]
  },
  {
   "cell_type": "code",
   "execution_count": 5,
   "metadata": {},
   "outputs": [
    {
     "name": "stdout",
     "output_type": "stream",
     "text": [
      "<class 'str'>\n"
     ]
    }
   ],
   "source": [
    "# calendar:   获取一年的日历字符串\n",
    "# 参数\n",
    "# w = 每个日期之间的间隔字符数\n",
    "# l = 每周所占用的行数\n",
    "# c = 每个月之间的间隔字符数\n",
    "\n",
    "# 需要先导入\n",
    "import calendar\n",
    "cal = calendar.calendar(2018)\n",
    "print(type(cal))"
   ]
  },
  {
   "cell_type": "code",
   "execution_count": 6,
   "metadata": {},
   "outputs": [
    {
     "data": {
      "text/plain": [
       "True"
      ]
     },
     "execution_count": 6,
     "metadata": {},
     "output_type": "execute_result"
    }
   ],
   "source": [
    "# isleap: 判断某一年是否闰年\n",
    "calendar.isleap(2000)"
   ]
  },
  {
   "cell_type": "code",
   "execution_count": 8,
   "metadata": {},
   "outputs": [
    {
     "data": {
      "text/plain": [
       "2"
      ]
     },
     "execution_count": 8,
     "metadata": {},
     "output_type": "execute_result"
    }
   ],
   "source": [
    "# leapdays: 获取指定年份之间的闰年的个数\n",
    "calendar.leapdays(1999, 2008)"
   ]
  },
  {
   "cell_type": "code",
   "execution_count": 10,
   "metadata": {},
   "outputs": [
    {
     "name": "stdout",
     "output_type": "stream",
     "text": [
      "     March 2018\n",
      "Mo Tu We Th Fr Sa Su\n",
      "          1  2  3  4\n",
      " 5  6  7  8  9 10 11\n",
      "12 13 14 15 16 17 18\n",
      "19 20 21 22 23 24 25\n",
      "26 27 28 29 30 31\n",
      "\n"
     ]
    }
   ],
   "source": [
    "# month()  获取某个月的日历字符串\n",
    "# 格式: calendar.month(年, 月)\n",
    "# 回值: 月日历的字符串\n",
    "m3 = calendar.month(2018, 3)\n",
    "print(m3)"
   ]
  },
  {
   "cell_type": "code",
   "execution_count": 11,
   "metadata": {},
   "outputs": [
    {
     "name": "stdout",
     "output_type": "stream",
     "text": [
      "(3, 31)\n"
     ]
    }
   ],
   "source": [
    "# monthrange( )  获取一个月的周几开始即和天数\n",
    "# 格式: calendar.monthrange(年, 月)\n",
    "# 回值: 元祖(周几开始,总天数)\n",
    "# 注意: 周默认0-6,表示周一到周末\n",
    "t = calendar.monthrange(2018, 3)\n",
    "print(t)"
   ]
  },
  {
   "cell_type": "code",
   "execution_count": 13,
   "metadata": {},
   "outputs": [
    {
     "name": "stdout",
     "output_type": "stream",
     "text": [
      "<class 'list'>\n",
      "[[0, 0, 0, 1, 2, 3, 4], [5, 6, 7, 8, 9, 10, 11], [12, 13, 14, 15, 16, 17, 18], [19, 20, 21, 22, 23, 24, 25], [26, 27, 28, 29, 30, 31, 0]]\n"
     ]
    }
   ],
   "source": [
    "# monthcalendar( )  获取一个月每天的矩阵列表\n",
    "# 格式: calendar.monthcalendar(年, 月)\n",
    "# 回值: 二级列表\n",
    "# 注意: 矩阵中没有天数用0表示\n",
    "m = calendar.monthcalendar(2018, 3)\n",
    "print(type(m))\n",
    "print(m)"
   ]
  },
  {
   "cell_type": "code",
   "execution_count": 14,
   "metadata": {},
   "outputs": [
    {
     "name": "stdout",
     "output_type": "stream",
     "text": [
      "                                  2018\n",
      "\n",
      "      January                   February                   March\n",
      "Mo Tu We Th Fr Sa Su      Mo Tu We Th Fr Sa Su      Mo Tu We Th Fr Sa Su\n",
      " 1  2  3  4  5  6  7                1  2  3  4                1  2  3  4\n",
      " 8  9 10 11 12 13 14       5  6  7  8  9 10 11       5  6  7  8  9 10 11\n",
      "15 16 17 18 19 20 21      12 13 14 15 16 17 18      12 13 14 15 16 17 18\n",
      "22 23 24 25 26 27 28      19 20 21 22 23 24 25      19 20 21 22 23 24 25\n",
      "29 30 31                  26 27 28                  26 27 28 29 30 31\n",
      "\n",
      "       April                      May                       June\n",
      "Mo Tu We Th Fr Sa Su      Mo Tu We Th Fr Sa Su      Mo Tu We Th Fr Sa Su\n",
      "                   1          1  2  3  4  5  6                   1  2  3\n",
      " 2  3  4  5  6  7  8       7  8  9 10 11 12 13       4  5  6  7  8  9 10\n",
      " 9 10 11 12 13 14 15      14 15 16 17 18 19 20      11 12 13 14 15 16 17\n",
      "16 17 18 19 20 21 22      21 22 23 24 25 26 27      18 19 20 21 22 23 24\n",
      "23 24 25 26 27 28 29      28 29 30 31               25 26 27 28 29 30\n",
      "30\n",
      "\n",
      "        July                     August                  September\n",
      "Mo Tu We Th Fr Sa Su      Mo Tu We Th Fr Sa Su      Mo Tu We Th Fr Sa Su\n",
      "                   1             1  2  3  4  5                      1  2\n",
      " 2  3  4  5  6  7  8       6  7  8  9 10 11 12       3  4  5  6  7  8  9\n",
      " 9 10 11 12 13 14 15      13 14 15 16 17 18 19      10 11 12 13 14 15 16\n",
      "16 17 18 19 20 21 22      20 21 22 23 24 25 26      17 18 19 20 21 22 23\n",
      "23 24 25 26 27 28 29      27 28 29 30 31            24 25 26 27 28 29 30\n",
      "30 31\n",
      "\n",
      "      October                   November                  December\n",
      "Mo Tu We Th Fr Sa Su      Mo Tu We Th Fr Sa Su      Mo Tu We Th Fr Sa Su\n",
      " 1  2  3  4  5  6  7                1  2  3  4                      1  2\n",
      " 8  9 10 11 12 13 14       5  6  7  8  9 10 11       3  4  5  6  7  8  9\n",
      "15 16 17 18 19 20 21      12 13 14 15 16 17 18      10 11 12 13 14 15 16\n",
      "22 23 24 25 26 27 28      19 20 21 22 23 24 25      17 18 19 20 21 22 23\n",
      "29 30 31                  26 27 28 29 30            24 25 26 27 28 29 30\n",
      "                                                    31\n",
      "\n"
     ]
    }
   ],
   "source": [
    "# prcal: print calendar  直接打年印日历\n",
    "# prmonth  直接打印整个月的日历\n",
    "# weekday()  获取周几    格式calendar.weekday(年, 月, 日)\n",
    "calendar.prcal(2018)"
   ]
  },
  {
   "cell_type": "markdown",
   "metadata": {},
   "source": [
    "# time 模块\n",
    "### 时间戳\n",
    "    - 一个时间表示,根据不同语言,可以使整数或者浮点数\n",
    "    - 是从1970年1月1日0时0分0秒到现在经理的秒数\n",
    "    - 时间不能相差太远,否则可能出现异常\n",
    "    - 32位系统能够支持到2038年\n",
    "    \n",
    "### UTC时间\n",
    "    - 又称世界协调时间,也叫世界标准时间\n",
    "    - 中国时区是 utc+8 东八区\n",
    "\n",
    "### 夏令时\n",
    "    - 夏令时就是在夏天的时候将时间调快一小时\n",
    "### 时间元祖\n",
    "    - 一个包含时间内容的普通元祖"
   ]
  },
  {
   "cell_type": "code",
   "execution_count": null,
   "metadata": {
    "collapsed": true
   },
   "outputs": [],
   "source": [
    "# 需要单独导入\n",
    "import time"
   ]
  },
  {
   "cell_type": "code",
   "execution_count": 16,
   "metadata": {},
   "outputs": [
    {
     "name": "stdout",
     "output_type": "stream",
     "text": [
      "-28800\n"
     ]
    }
   ],
   "source": [
    "# 时间模块的属性\n",
    "# timezone: 当前时区和utc时间相差的描述,在没有夏令时的情况下的间隔\n",
    "# altzone 获取当前时区与utc时间相差的秒数, 在有夏令时的情况下\n",
    "# daylight 测当前是否是夏令时 时间状态, 0 表示是\n",
    "import time\n",
    "print(time.timezone)"
   ]
  },
  {
   "cell_type": "code",
   "execution_count": 17,
   "metadata": {},
   "outputs": [
    {
     "data": {
      "text/plain": [
       "1531057955.3651924"
      ]
     },
     "execution_count": 17,
     "metadata": {},
     "output_type": "execute_result"
    }
   ],
   "source": [
    "# 得到时间戳\n",
    "time.time()"
   ]
  },
  {
   "cell_type": "code",
   "execution_count": 19,
   "metadata": {},
   "outputs": [
    {
     "name": "stdout",
     "output_type": "stream",
     "text": [
      "time.struct_time(tm_year=2018, tm_mon=7, tm_mday=8, tm_hour=21, tm_min=53, tm_sec=15, tm_wday=6, tm_yday=189, tm_isdst=0)\n"
     ]
    }
   ],
   "source": [
    "# localtime, 得到当前时间的时间结构\n",
    "# 可以通过点号操作符得到相应的属性元素的内容\n",
    "t = time.localtime()\n",
    "print(t)"
   ]
  },
  {
   "cell_type": "code",
   "execution_count": 21,
   "metadata": {},
   "outputs": [
    {
     "name": "stdout",
     "output_type": "stream",
     "text": [
      "Sun Jul  8 21:57:00 2018\n"
     ]
    }
   ],
   "source": [
    "# asctime() 返回元祖的正常字符串化之后的时间格式\n",
    "# 格式: time.asctime(时间元祖)\n",
    "# 返回值: 字符串\n",
    "\n",
    "t = time.asctime()\n",
    "\n",
    "print(t)"
   ]
  },
  {
   "cell_type": "code",
   "execution_count": 30,
   "metadata": {},
   "outputs": [
    {
     "ename": "SyntaxError",
     "evalue": "invalid syntax (<ipython-input-30-a02a2c6300bd>, line 14)",
     "output_type": "error",
     "traceback": [
      "\u001b[0;36m  File \u001b[0;32m\"<ipython-input-30-a02a2c6300bd>\"\u001b[0;36m, line \u001b[0;32m14\u001b[0m\n\u001b[0;31m    print((-) * 20)\u001b[0m\n\u001b[0m            ^\u001b[0m\n\u001b[0;31mSyntaxError\u001b[0m\u001b[0;31m:\u001b[0m invalid syntax\n"
     ]
    }
   ],
   "source": [
    "# ctime: 获取字符串化的当前时间\n",
    "t = time.ctime()\n",
    "print(t)\n",
    "\n",
    "# mktime() 使用时间元祖获取对应的时间戳\n",
    "# 格式: time.mktime(时间元祖)\n",
    "# 返回值: 浮点数时间戳\n",
    "\n",
    "\n",
    "lt = time.localtime()\n",
    "ts = time.mktime(lt)\n",
    "print(type(ts))\n",
    "print(ts)\n",
    "#print(() * 20)\n",
    "\n",
    "\n"
   ]
  },
  {
   "cell_type": "code",
   "execution_count": 31,
   "metadata": {},
   "outputs": [
    {
     "name": "stdout",
     "output_type": "stream",
     "text": [
      "0\n",
      "1\n",
      "2\n",
      "3\n",
      "4\n",
      "5\n",
      "6\n",
      "7\n",
      "8\n",
      "9\n"
     ]
    }
   ],
   "source": [
    "# sleep: 使程序进入睡眠, n秒后继续\n",
    "\n",
    "for i in range(10):\n",
    "    print(i)\n",
    "    time.sleep(1)"
   ]
  },
  {
   "cell_type": "code",
   "execution_count": 3,
   "metadata": {},
   "outputs": [
    {
     "name": "stdout",
     "output_type": "stream",
     "text": [
      "2018年07月09日 08:58\n"
     ]
    }
   ],
   "source": [
    "# strftime:  将时间元祖转换Wie资第一的字符串格式\n",
    "# 把时间表示成, 2018  7.9  8:55\n",
    "import time\n",
    "t = time.localtime()\n",
    "ft = time.strftime(\"%Y年%m月%d日 %H:%M\", t)\n",
    "print(ft)\n"
   ]
  },
  {
   "cell_type": "markdown",
   "metadata": {},
   "source": [
    "# datetime 弄快\n",
    "- datetime提供日期和时间的运算和表示\n"
   ]
  },
  {
   "cell_type": "code",
   "execution_count": 4,
   "metadata": {},
   "outputs": [
    {
     "name": "stdout",
     "output_type": "stream",
     "text": [
      "2018-07-09\n"
     ]
    }
   ],
   "source": [
    "import datetime\n",
    "\n",
    "# datetime常见属性\n",
    "# datetime.date: 一个理想和的日期, 提供year, month, day的属性\n",
    "print(datetime.date(2018,7,9))\n",
    "\n",
    "#datetime.time: 提供一个理想和的时间,提供hour, minute, sec, microsec等\n",
    "# datetime.datetime: 提供日期跟时间的组合\n",
    "# datetime.timedelta: 提供一个时间差, 时间长度"
   ]
  },
  {
   "cell_type": "code",
   "execution_count": 6,
   "metadata": {},
   "outputs": [
    {
     "name": "stdout",
     "output_type": "stream",
     "text": [
      "2018-07-09 09:08:12.911134\n",
      "2018-07-09 09:08:12.911801\n",
      "2018-07-09 09:08:12.920050\n"
     ]
    }
   ],
   "source": [
    "# datetime.datetime\n",
    "from datetime import datetime\n",
    "# 常用方法\n",
    "# today:\n",
    "# now\n",
    "# utcnow\n",
    "# fromtimestamp: 从时间戳返回本地时间\n",
    "dt = datetime(2018, 7 , 9)\n",
    "print(dt.today())\n",
    "print(dt.now())\n",
    "\n",
    "print(dt.fromtimestamp(time.time()))"
   ]
  },
  {
   "cell_type": "code",
   "execution_count": 7,
   "metadata": {},
   "outputs": [
    {
     "name": "stdout",
     "output_type": "stream",
     "text": [
      "2018-07-09  09:15:00\n",
      "2018-07-09  10:15:00\n"
     ]
    }
   ],
   "source": [
    "# datetime.timedelta\n",
    "# 表示一个时间间隔\n",
    "\n",
    "from datetime import datetime, timedelta\n",
    "\n",
    "t1 = datetime.now()\n",
    "print(t1.strftime(\"%Y-%m-%d  %H:%M:%S\"))\n",
    "# td 表示以小时的时间长度\n",
    "td = timedelta(hours=1)\n",
    "# 当前时间加上时间间隔后, 把的到的一个小时后的时间格式化输出\n",
    "print( (t1+td).strftime(\"%Y-%m-%d  %H:%M:%S\"))"
   ]
  },
  {
   "cell_type": "code",
   "execution_count": 2,
   "metadata": {},
   "outputs": [
    {
     "name": "stdout",
     "output_type": "stream",
     "text": [
      "6.004615783691406\n"
     ]
    }
   ],
   "source": [
    "# timeit -时间测量工具\n",
    "# 测量程序运行时间间隔的实验\n",
    "import time\n",
    "def p():\n",
    "    time.sleep(6)\n",
    "\n",
    "t1 = time.time()\n",
    "p()\n",
    "print(time.time() - t1)"
   ]
  },
  {
   "cell_type": "code",
   "execution_count": 4,
   "metadata": {},
   "outputs": [
    {
     "name": "stdout",
     "output_type": "stream",
     "text": [
      "Repeat for 0\n",
      "Repeat for 1\n",
      "Repeat for 2\n",
      "Repeat for 0\n",
      "Repeat for 1\n",
      "Repeat for 2\n",
      "Repeat for 0\n",
      "Repeat for 1\n",
      "Repeat for 2\n",
      "Repeat for 0\n",
      "Repeat for 1\n",
      "Repeat for 2\n",
      "Repeat for 0\n",
      "Repeat for 1\n",
      "Repeat for 2\n",
      "Repeat for 0\n",
      "Repeat for 1\n",
      "Repeat for 2\n",
      "Repeat for 0\n",
      "Repeat for 1\n",
      "Repeat for 2\n",
      "Repeat for 0\n",
      "Repeat for 1\n",
      "Repeat for 2\n",
      "Repeat for 0\n",
      "Repeat for 1\n",
      "Repeat for 2\n",
      "Repeat for 0\n",
      "Repeat for 1\n",
      "Repeat for 2\n",
      "0.016978331999780494\n"
     ]
    }
   ],
   "source": [
    "# timeit 可以执行一个函数, 来测量一个函数的运行时间\n",
    "import timeit\n",
    "def doIt():\n",
    "    num = 3\n",
    "    for i in range(num):\n",
    "        print(\"Repeat for {0}\".format(i))\n",
    "t = timeit.timeit(stmt = doIt, number = 10)\n",
    "print(t)"
   ]
  },
  {
   "cell_type": "code",
   "execution_count": 8,
   "metadata": {},
   "outputs": [
    {
     "name": "stdout",
     "output_type": "stream",
     "text": [
      "Repeat for 0\n",
      "Repeat for 1\n",
      "Repeat for 2\n",
      "Repeat for 0\n",
      "Repeat for 1\n",
      "Repeat for 2\n",
      "Repeat for 0\n",
      "Repeat for 1\n",
      "Repeat for 2\n",
      "Repeat for 0\n",
      "Repeat for 1\n",
      "Repeat for 2\n",
      "Repeat for 0\n",
      "Repeat for 1\n",
      "Repeat for 2\n",
      "Repeat for 0\n",
      "Repeat for 1\n",
      "Repeat for 2\n",
      "Repeat for 0\n",
      "Repeat for 1\n",
      "Repeat for 2\n",
      "Repeat for 0\n",
      "Repeat for 1\n",
      "Repeat for 2\n",
      "Repeat for 0\n",
      "Repeat for 1\n",
      "Repeat for 2\n",
      "Repeat for 0\n",
      "Repeat for 1\n",
      "Repeat for 2\n",
      "0.0172879289998491\n"
     ]
    }
   ],
   "source": [
    "s= '''\n",
    "def doIt(num):\n",
    "    num = 3\n",
    "    for i in range(num):\n",
    "        print(\"Repeat for {0}\".format(i))\n",
    "'''\n",
    "# 执行doIt(num)\n",
    "# setup 负责把环境变量准备好\n",
    "# 实际相当于给timeit创造了一个小环境, 代码执行的大致顺序是\n",
    "# \n",
    "'''\n",
    "def doIt(num):\n",
    "    ......\n",
    "num = 3\n",
    "\n",
    "doIt(num)\n",
    "'''\n",
    "t = timeit.timeit(\"doIt(num)\", setup = s+\"num=3\", number = 10)\n",
    "print(t)"
   ]
  },
  {
   "cell_type": "markdown",
   "metadata": {},
   "source": [
    "# datetime.datetime \n"
   ]
  },
  {
   "cell_type": "code",
   "execution_count": 9,
   "metadata": {},
   "outputs": [
    {
     "name": "stdout",
     "output_type": "stream",
     "text": [
      "2018-07-09 09:49:51.213978\n"
     ]
    }
   ],
   "source": [
    "from datetime import datetime as dt\n",
    "\n",
    "print(dt.now())\n"
   ]
  },
  {
   "cell_type": "markdown",
   "metadata": {},
   "source": [
    "# OS - 操作系统相关\n",
    "- 跟操作系统相关, 主要是文件操作\n",
    "- 于系统相关的操作, 主要包含在三个模块里\n",
    "    - os  操作系统目录相关\n",
    "    - os.path  系统路径相关操作\n",
    "    - shutil  高级文件操作, 目录树的操作, 文件赋值,删除,移动\n",
    "- 路径\n",
    "    - 绝对路径: 总是从根目录还上开始的\n",
    "    - 相对路径: 基本是以当前环境为开始的一个相对的地方\n",
    "    "
   ]
  },
  {
   "cell_type": "code",
   "execution_count": 10,
   "metadata": {},
   "outputs": [
    {
     "name": "stdout",
     "output_type": "stream",
     "text": [
      "/home/tlxy/tulingxueyuan/QIAO\n"
     ]
    }
   ],
   "source": [
    "# getcwd() 获取当前的工作目录\n",
    "# 格式: os.getcwd()\n",
    "# 返回值: 当前工作目录的字符串\n",
    "# 当前工作目录就是程序在进行文件相关操作, 默认查找文件的目录\n",
    "# 使用前要先导入\n",
    "\n",
    "import os\n",
    "\n",
    "a = os.getcwd()\n",
    "print(a)"
   ]
  },
  {
   "cell_type": "code",
   "execution_count": 15,
   "metadata": {},
   "outputs": [],
   "source": [
    "# chdir() 改变当前的工作目录\n",
    "# chdir directory\n",
    "# 格式: os.chdir(路径)\n",
    "# 返回值: 无\n",
    "\n",
    "\n",
    "\n",
    "# listdir() 获取一个目录中所有子目录和文件的名称列表\n",
    "# 格式: os.listdir(路径)\n",
    "# 返回值: 所有子目录和文件名称的列表\n",
    "\n",
    "\n",
    "# makedirs() 递归创建文件夹\n",
    "# 格式: os.makedirs(递归路径)\n",
    "# 返回值: 无\n",
    "# 递归路径:  多个文件夹层层包含的路径就是递归路径  例如a/b/c...\n",
    "\n",
    "a = os.makedirs(\"yaodong\")"
   ]
  },
  {
   "cell_type": "code",
   "execution_count": 16,
   "metadata": {
    "collapsed": true
   },
   "outputs": [],
   "source": [
    "# system() 运行系统shell命令\n",
    "# 格式: os.system(系统命令)\n",
    "# 返回值 :　打开一个ｓｈｅｌｌ或者终端界面\n",
    "# ls 是列出当前文件和文件夹的系统命令\n",
    "\n",
    "\n",
    "# getenv()  获取指定的系统环境变量值\n",
    "# 相应的还有  putenv()\n",
    "# 格式: os.getenv('环境变量名')\n",
    "# 返回值: 指定环境变量名对应的值\n"
   ]
  },
  {
   "cell_type": "code",
   "execution_count": 17,
   "metadata": {
    "collapsed": true
   },
   "outputs": [],
   "source": [
    "# exit() 退出当前程序\n",
    "# 格式: exit()\n",
    "# 返回值: 无\n",
    "\n",
    "\n"
   ]
  },
  {
   "cell_type": "markdown",
   "metadata": {},
   "source": [
    "# 值部分\n",
    "- os.curdir: current dir  当前目录\n",
    "- os.pardir: parent dir  父亲目录\n",
    "- os.sep   当前系统的路径分隔符\n",
    "    - windows:\"\\\"\n",
    "    - liunx:\"/\"\n",
    "- os.linesep   当前系统的换行符号\n",
    "    - windows: \"\\r\\n\"\n",
    "    - unix,liunx,macos: \"\\n\" \n",
    "- os.name   当前系统名称\n",
    "    - windows:  nt\n",
    "    - mac, unix , liunx posix"
   ]
  },
  {
   "cell_type": "code",
   "execution_count": 18,
   "metadata": {},
   "outputs": [
    {
     "name": "stdout",
     "output_type": "stream",
     "text": [
      ".\n",
      "..\n"
     ]
    }
   ],
   "source": [
    "print(os.curdir)\n",
    "print(os.pardir)"
   ]
  },
  {
   "cell_type": "markdown",
   "metadata": {},
   "source": [
    "# os.path  模块, 跟路径相关的模块\n"
   ]
  },
  {
   "cell_type": "code",
   "execution_count": null,
   "metadata": {
    "collapsed": true
   },
   "outputs": [],
   "source": [
    "# abspath() 将路径转换为绝对路径\n",
    "# abselute  绝对\n",
    "# 格式: os.path.abspath('路径')\n",
    "# 返回值: 路径的绝对路径形式\n",
    "\n",
    "import os.path as op\n",
    "\n",
    "# liunx 中\n",
    "# . 点号  代表当前目录\n",
    "# .. 双点  代表父目录\n",
    "\n",
    "absp = op.abspath(\".\")\n",
    "print(absp)\n",
    "\n",
    "\n",
    "# basename() 获取路径中的文件名部分\n",
    "# 格式: os.path.basemane(路径)\n",
    "# 返回值: 文件名字符串\n",
    "\n",
    "\n",
    "# join( )  将多个路径拼合成一个路径\n",
    "# 格式: os.path.join(路径1, 路径2...)\n",
    "# 返回值: 组合之后的新路径的字符串\n",
    "\n",
    "\n",
    "# split() 将路径切割为文件夹部分和当前文件部分\n",
    "# 格式: os.path.split(路径)\n",
    "# 返回值: 路径和文件名组成的元祖\n",
    "\n",
    "\n",
    "# isdir() 检测是否是目录\n",
    "# 格式: os.path.isdir(路径)\n",
    "# 返回值: 布尔值\n",
    "\n",
    "\n",
    "# exists() 检测文件或者目录是否存在\n",
    "# 格式: os.path.exists(路径)\n",
    "# 返回值: 布尔值"
   ]
  },
  {
   "cell_type": "markdown",
   "metadata": {},
   "source": [
    "# shutil 模块\n"
   ]
  },
  {
   "cell_type": "code",
   "execution_count": null,
   "metadata": {
    "collapsed": true
   },
   "outputs": [],
   "source": [
    "# copy() 复制文件\n",
    "# 格式:shutil.copy(来源路径, 目标路径)\n",
    "# 返回值: 返回目标路径\n",
    "# 拷贝的同时,可以给文件重命名\n",
    "\n",
    "\n",
    "\n",
    "# copy2()  复制文件,保留元数据(文件信息)\n",
    "# 格式: shutil.copy2(来源路径, 目标路径)\n",
    "# 返回值: 返回目标的值\n",
    "# 注意: copy与copy2的唯一区别在于copy2复制文件时尽量保留元数据\n",
    "\n",
    "\n",
    "\n",
    "# copfile()讲一个文件中的内容复制到另一个文件中去\n",
    "# 格式: shutil.copyfile('源路径', '目标路径')\n",
    "# 返回值: 无\n",
    "\n",
    "\n",
    "# move() 移动文件/文件夹\n",
    "# 格式: shutil.move(源路径, 目标路径)\n",
    "# 返回值: 目标路径\n",
    "\n",
    "\n"
   ]
  },
  {
   "cell_type": "markdown",
   "metadata": {},
   "source": [
    "# 归档和压缩\n",
    "- 归档: 把多个文件或者文件夹合并到一个文件中去\n",
    "- 压缩: 用算法把多个文件或者文件夹无损或者有损合并到一个文件中"
   ]
  },
  {
   "cell_type": "code",
   "execution_count": 22,
   "metadata": {},
   "outputs": [
    {
     "name": "stdout",
     "output_type": "stream",
     "text": [
      "Help on function make_archive in module shutil:\n",
      "\n",
      "make_archive(base_name, format, root_dir=None, base_dir=None, verbose=0, dry_run=0, owner=None, group=None, logger=None)\n",
      "    Create an archive file (eg. zip or tar).\n",
      "    \n",
      "    'base_name' is the name of the file to create, minus any format-specific\n",
      "    extension; 'format' is the archive format: one of \"zip\", \"tar\", \"gztar\",\n",
      "    \"bztar\", or \"xztar\".  Or any other registered format.\n",
      "    \n",
      "    'root_dir' is a directory that will be the root directory of the\n",
      "    archive; ie. we typically chdir into 'root_dir' before creating the\n",
      "    archive.  'base_dir' is the directory where we start archiving from;\n",
      "    ie. 'base_dir' will be the common prefix of all files and\n",
      "    directories in the archive.  'root_dir' and 'base_dir' both default\n",
      "    to the current directory.  Returns the name of the archive file.\n",
      "    \n",
      "    'owner' and 'group' are used when creating a tar archive. By default,\n",
      "    uses the current owner and group.\n",
      "\n"
     ]
    }
   ],
   "source": [
    "# make_archive() 归档操作\n",
    "# 格式: shutil.make_archive('归档之后的目录和文件名', '后缀', '需要归档的文件夹')\n",
    "    # - 后缀一般可用 zip\n",
    "# 返回值: 归档之后的地址\n",
    "import shutil\n",
    "\n",
    "help(shutil.make_archive)"
   ]
  },
  {
   "cell_type": "code",
   "execution_count": 23,
   "metadata": {
    "collapsed": true
   },
   "outputs": [],
   "source": [
    "# unpack_archive() 解包操作\n",
    "# 格式: shutil.unpack_archive('归档文件地址', '解包之后的地址')\n",
    "# 返回值: 解包之后的地址"
   ]
  },
  {
   "cell_type": "markdown",
   "metadata": {},
   "source": [
    "# zip - 压缩包\n",
    "- 木块名称叫 zipfile"
   ]
  },
  {
   "cell_type": "markdown",
   "metadata": {},
   "source": [
    "# random\n",
    "- 随机数\n",
    "- 所有的随机模块都是伪随机"
   ]
  },
  {
   "cell_type": "code",
   "execution_count": 28,
   "metadata": {},
   "outputs": [
    {
     "name": "stdout",
     "output_type": "stream",
     "text": [
      "0.5829585243913122\n",
      "11.67726607252061\n"
     ]
    }
   ],
   "source": [
    "# random() 获取0-1之间的随机小数\n",
    "# 格式: random.random()\n",
    "# 返回值: 随机0-1之间的小数\n",
    "\n",
    "import random\n",
    "\n",
    "print(random.random())\n",
    "\n",
    "print(random.random() * 100)"
   ]
  },
  {
   "cell_type": "code",
   "execution_count": 35,
   "metadata": {},
   "outputs": [
    {
     "name": "stdout",
     "output_type": "stream",
     "text": [
      "[0, 1, 2, 3, 4, 5, 6, 7, 8, 9]\n",
      "[5, 4, 8, 2, 6, 1, 7, 3, 9, 0]\n"
     ]
    }
   ],
   "source": [
    "# choice() 随机返回序列中的某个值\n",
    "# 格式: random.choice(序列)\n",
    "# 返回值: 序列中的某个值\n",
    "\n",
    "\n",
    "# shuffle()  随机打乱列表\n",
    "# 格式: random.shuffle(列表)\n",
    "# 返回值: 打乱顺序后的列表\n",
    "\n",
    "l1 = [i for i in range(10)]\n",
    "print(l1)\n",
    "\n",
    "random.shuffle(l1)\n",
    "print(l1)"
   ]
  },
  {
   "cell_type": "code",
   "execution_count": 102,
   "metadata": {},
   "outputs": [
    {
     "name": "stdout",
     "output_type": "stream",
     "text": [
      "33\n"
     ]
    }
   ],
   "source": [
    "# randint(a, b) 随机生成一个a到b的随机整数, 包含a和b\n",
    "\n",
    "print(random.randint(0,100))"
   ]
  },
  {
   "cell_type": "code",
   "execution_count": null,
   "metadata": {
    "collapsed": true
   },
   "outputs": [],
   "source": []
  }
 ],
 "metadata": {
  "kernelspec": {
   "display_name": "Python 3",
   "language": "python",
   "name": "python3"
  },
  "language_info": {
   "codemirror_mode": {
    "name": "ipython",
    "version": 3
   },
   "file_extension": ".py",
   "mimetype": "text/x-python",
   "name": "python",
   "nbconvert_exporter": "python",
   "pygments_lexer": "ipython3",
   "version": "3.6.3"
  }
 },
 "nbformat": 4,
 "nbformat_minor": 2
}

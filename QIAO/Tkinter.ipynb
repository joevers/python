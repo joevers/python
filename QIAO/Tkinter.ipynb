{
 "cells": [
  {
   "cell_type": "markdown",
   "metadata": {},
   "source": [
    "# GUI介绍\n",
    "- GraphicaUserInterface\n",
    "- GUI for Python: Tkinter, wxPython, PyQt\n",
    "- Tkinter:\n",
    "    - 绑定的是TK GUI工具集, 用途Python包装的Tcl代码\n",
    "- PyGTK\n",
    "    - Tkinter的替代品\n",
    "- wxPython\n",
    "    - 跨平台的Python GUI\n",
    "- PyQt\n",
    "    - 跨平台的\n",
    "    - 商业授权可能有问题"
   ]
  },
  {
   "cell_type": "code",
   "execution_count": 1,
   "metadata": {
    "collapsed": true
   },
   "outputs": [],
   "source": [
    "# 测试tkinter包是否好用\n",
    "\n",
    "import tkinter\n",
    "\n",
    "#tkinter._test()"
   ]
  },
  {
   "cell_type": "code",
   "execution_count": 2,
   "metadata": {
    "collapsed": true
   },
   "outputs": [],
   "source": [
    "# hello world\n",
    "\n",
    "import tkinter\n",
    "\n",
    "base = tkinter.Tk()\n",
    "\n",
    "#消息循环\n",
    "#base.mainloop()"
   ]
  },
  {
   "cell_type": "markdown",
   "metadata": {},
   "source": [
    "### Tkinter常用组件\n",
    "- 按钮\n",
    "        \n",
    "        Button            按钮组件\n",
    "        RadioButton       单选框组件\n",
    "        CheckButton       选择按钮组件\n",
    "        ListBox           列表框组件\n",
    "        \n",
    "- 文本输入组件\n",
    "        \n",
    "        Entry             单行文本框组件\n",
    "        Text              多行文本框组件\n",
    "        \n",
    "- 标签组件\n",
    "\n",
    "        Label             标签组件, 可以显示图片和文字\n",
    "        Message           标签组件, 可以根据内容将文字转换\n",
    "        \n",
    "- 菜单\n",
    "\n",
    "        Meun              菜单组件\n",
    "        MeunButton        菜单按钮组件, 可以使用Meun代替\n",
    "        \n",
    "- 滚动条\n",
    "\n",
    "        scale             滑块组件\n",
    "        Scrollbar         滚动条组件\n",
    "        \n",
    "- 其他组件\n",
    "\n",
    "        Canvas            画布组件\n",
    "        Frame             框架组件, 将多个组件编组\n",
    "        Toplevel          创建子窗口容器组件\n",
    "        \n",
    "### 组件的大致使用步骤\n",
    "1. 创建总面板\n",
    "2. 创建面板上的各种组件\n",
    "    1. 指定组件的父组件,即依附关系\n",
    "    2.利用相应的属性对组件进行设置\n",
    "    3.给组件安排布局\n",
    "3. 同步骤2相似, 创建好多个组件\n",
    "4. 最后,启动总面板的消息循环\n"
   ]
  },
  {
   "cell_type": "code",
   "execution_count": 5,
   "metadata": {
    "collapsed": true
   },
   "outputs": [],
   "source": [
    "# Lable 的例子\n",
    "\n",
    "import tkinter\n",
    "\n",
    "base = tkinter.Tk()\n",
    "# 负责标题 \n",
    "base.wm_title(\"Lable Test\")\n",
    "\n",
    "lb = tkinter.Label(base, text=\"Python Label\")\n",
    "# 给相应组件指定布局\n",
    "lb.pack()\n",
    "\n",
    "base.mainloop()"
   ]
  },
  {
   "cell_type": "code",
   "execution_count": 8,
   "metadata": {
    "collapsed": true
   },
   "outputs": [],
   "source": [
    "import tkinter\n",
    "\n",
    "base = tkinter.Tk()\n",
    "base.wm_title(\"Label Text\")\n",
    "\n",
    "lb1 = tkinter.Label(base, text=\"Python AI\")\n",
    "lb1.pack()\n",
    "\n",
    "lb2 = tkinter.Label(base, text=\"绿色背景\", background=\"green\")\n",
    "lb2.pack()\n",
    "\n",
    "lb3 = tkinter.Label(base, text=\"蓝色背景\", background=\"blue\")\n",
    "lb3.pack()\n",
    "\n",
    "base.mainloop()"
   ]
  },
  {
   "cell_type": "code",
   "execution_count": 9,
   "metadata": {
    "collapsed": true
   },
   "outputs": [],
   "source": [
    "# Button 案例\n",
    "import tkinter\n",
    "\n",
    "def showLabel():\n",
    "    global baseFrame\n",
    "    # 在函数中定义了一个label\n",
    "    # label的父组件是baseFrame\n",
    "    lb = tkinter.Label(baseFrame, text=\"显示Label\")\n",
    "    lb.pack()\n",
    "    \n",
    "baseFrame = tkinter.Tk()\n",
    "# 生成一个按钮\n",
    "# command参数指示,当按钮被按下时,执行哪个函数\n",
    "btn = tkinter.Button(baseFrame, text=\"Show Label\", command=showLabel)\n",
    "btn.pack()\n",
    "\n",
    "baseFrame.mainloop()"
   ]
  },
  {
   "cell_type": "markdown",
   "metadata": {},
   "source": [
    "### 组件布局\n",
    "- 控制组件的摆放方式\n",
    "- 三种布局\n",
    "    - pack: 按照方位布局\n",
    "    - place: 按照坐标布局\n",
    "    - grid: 网格布局\n",
    "- pack布局\n",
    "    - 最简单, 代码量最少,挨个摆放, 默认从上到下,系统自动设置\n",
    "    - 通用使用方式为:  组件对象.pack(设置,,,,,)\n",
    "    - side: 停靠方位, 可选值为LEFT,  TOP,  RIGHT,  BOTTON\n",
    "    - fill: 填充方式, X, Y, BOTH, NONE\n",
    "    - expande: YES/NO\n",
    "    - anchor: N, E, S, W, CENTER\n",
    "    - ipadx: x方向的内边距\n",
    "    - ipady: y方向的内边距\n",
    "    - padx:  x方向的外边距\n",
    "    - padx:  y方向的外边距\n",
    "    \n",
    "- place布局\n",
    "    - 明确方位的摆放\n",
    "    - 相对位置布局,随意改变窗口大小会导致混乱\n",
    "    - 使用place函数, 分为绝对布局和相对布局, 局对布局使用X, Y参数\n",
    "    - 相对布局使用 relx, rely, relheight, relwidth\n",
    "    \n",
    "- grid布局\n",
    "    - 通用使用方式: 组件对象.grid(设置,,,,)\n",
    "    - 利用row, column编号, 都是从0开始\n",
    "    - sticky: N,E,S,W表示上下左右,用来决定组件从哪个方向开始\n",
    "    - 支持ipadx,padx等参数,跟 pack 函数含义一样\n",
    "    - 支持rowspan, columnspan, 表示跨行, 跨列数量\n",
    "    "
   ]
  },
  {
   "cell_type": "code",
   "execution_count": 10,
   "metadata": {
    "collapsed": true
   },
   "outputs": [],
   "source": [
    "# pack布局案例\n",
    "# grid布局案例\n",
    "#  见课程笔记"
   ]
  },
  {
   "cell_type": "markdown",
   "metadata": {},
   "source": [
    "### 消息机制\n",
    "- 消息的传递机制\n",
    "    - 自动发出事件/消息\n",
    "    - 消息由系统负责发送到队列\n",
    "    - 由相关组件进行绑定/设置\n",
    "    - 后端自动选择感兴趣的事件并作出相应反应\n",
    "- 消息格式:\n",
    "    - <[modifier-]---type-[-detail]>\n",
    "    - <Button-1>: Button表示一个按钮事件,1代表鼠标左键,2代表鼠标中键\n",
    "    - <KeyPress-A>: 键盘A键\n",
    "    - <Control-Shift-KeyPress-A>: 同事按下Control, Shift, A三个键位"
   ]
  },
  {
   "cell_type": "code",
   "execution_count": 4,
   "metadata": {},
   "outputs": [
    {
     "name": "stdout",
     "output_type": "stream",
     "text": [
      "哈哈,我被点击了\n",
      "哈哈,我被点击了\n",
      "哈哈,我被点击了\n"
     ]
    }
   ],
   "source": [
    "# 关事件的简单的例子\n",
    "import tkinter\n",
    "\n",
    "def baseLabel(event):\n",
    "    global baseFrame\n",
    "    print(\"哈哈,我被点击了\")\n",
    "    lb = tkinter.Label(baseFrame, text=\"谢谢点击\")\n",
    "    lb.pack()\n",
    "    \n",
    "baseFrame = tkinter.Tk()\n",
    "\n",
    "lb = tkinter.Label(baseFrame, text=\"模拟按钮\")\n",
    "lb.bind(\"<Button-1>\", baseLabel)\n",
    "lb.pack()\n",
    "\n",
    "baseFrame.mainloop()"
   ]
  },
  {
   "cell_type": "markdown",
   "metadata": {},
   "source": [
    "### Tkinter 的绑定\n",
    "- bind_all: 全局范围的绑定, 默认的是全局快捷键,比如 F1是帮助文档\n",
    "- bind_class: 接受三个参数,第一个是类名, 第二个是事件, 第三个是操作\n",
    "    - w.bind_class(\"Entry\", <Control-V>, my_paste)\n",
    "- bind: 单独对某一个实例绑定\n",
    "- unbind: 解绑,需要一个参数,即你要解绑那个事件\n",
    "\n",
    "### Entry\n",
    "- 输入框,功能单一\n",
    "- entry[\"show\"]=\"*\",设置遮挡字符"
   ]
  },
  {
   "cell_type": "markdown",
   "metadata": {},
   "source": [
    "### 菜单\n",
    "### 1. 普通菜单\n",
    "- 第一个Menu类定义的是parent\n",
    "- add_command 添加菜单项, 如果菜单是顶层菜单,则从左向右添加,否则就是下拉菜单\n",
    "    - label: 指定菜单项名称\n",
    "    - command: 点击后相应的调用函数\n",
    "    - acceletor: 快捷键\n",
    "    - underline: 指定是否菜单信息下有横线\n",
    "    - menu: 属性制定使用哪一个作为顶级菜单\n",
    "    \n",
    "### 2. 级联菜单\n",
    "- add_cascade: 级联菜单,作用是引出后面的菜单\n",
    "- add_cascade的menu属性: 指明把菜单级联到哪个菜单上\n",
    "- label: 名称\n",
    "- 过程:\n",
    "    1. 建立menu实例\n",
    "    2. add_command\n",
    "    3. add_cascade\n",
    "    \n",
    "### 3. 弹出式菜单\n",
    "- 弹出式菜单也叫上下文菜单\n",
    "- 实现的大致思路\n",
    "    1. 建立菜单并向菜单添加各种功能\n",
    "    2. 监听鼠标右键\n",
    "    3. 如果右键点击, 则根据位置判断弹出\n",
    "    4. 调用Menu的pop方法\n",
    "- add_separator: 添加分隔符"
   ]
  },
  {
   "cell_type": "code",
   "execution_count": 5,
   "metadata": {
    "collapsed": true
   },
   "outputs": [],
   "source": [
    "#普通菜单的代码\n",
    "import tkinter\n",
    "\n",
    "baseFrame = tkinter.Tk()\n",
    "menubar = tkinter.Menu(baseFrame)\n",
    "\n",
    "for item in ['File', 'Edit', 'View', 'About']:\n",
    "    menubar.add_command(label=item)\n",
    "    \n",
    "baseFrame['menu'] = menubar\n",
    "\n",
    "baseFrame.mainloop()"
   ]
  },
  {
   "cell_type": "code",
   "execution_count": 7,
   "metadata": {
    "collapsed": true
   },
   "outputs": [],
   "source": [
    "# 级联菜单\n",
    "\n",
    "import tkinter\n",
    "\n",
    "baseFrame = tkinter.Tk()\n",
    "\n",
    "menubar = tkinter.Menu(baseFrame)\n",
    "\n",
    "emenu = tkinter.Menu(menubar)\n",
    "for item in ['Copy', 'Past', 'Cut']:\n",
    "    emenu.add_command(label=item)\n",
    "    \n",
    "menubar.add_cascade(label='File')\n",
    "menubar.add_cascade(label='Edit', menu=emenu)\n",
    "menubar.add_cascade(label='About')\n",
    "    \n",
    "baseFrame['menu'] = menubar\n",
    "    \n",
    "baseFrame.mainloop()"
   ]
  },
  {
   "cell_type": "code",
   "execution_count": 14,
   "metadata": {},
   "outputs": [],
   "source": [
    "# 弹出式菜单\n",
    "import tkinter\n",
    "    \n",
    "def makeLabel():\n",
    "    global baseFrame\n",
    "    tkinter.Label(baseFrame, text=\"PHP是最好的编程语言,我用Python\").pack()\n",
    "    \n",
    "baseFrame = tkinter.Tk()\n",
    "\n",
    "menubar = tkinter.Menu(baseFrame)\n",
    "for x in ['麻辣香菇', '东坡肘子', '地锅鸡']:\n",
    "    menubar.add_separator()\n",
    "    menubar.add_command(label=x)\n",
    "\n",
    "menubar.add_command(label='重庆火锅', command=makeLabel)\n",
    "\n",
    "def pop(event):\n",
    "    menubar.post(event.x_root, event.y_root)\n",
    "    \n",
    "baseFrame.bind(\"<Button-3>\", pop)\n",
    "\n",
    "baseFrame.mainloop()"
   ]
  },
  {
   "cell_type": "markdown",
   "metadata": {},
   "source": [
    "### canvas 画布\n",
    "- 画布: 可以自由的在上面绘制图形的一个小舞台\n",
    "- 在画布上绘制图像, 通常用create_xxx,  xxx=对象类型, 例如line, rectangle\n",
    "- 画布的作用是把一定的组件画到画布上显示出来\n",
    "- 画布所支持的组件:\n",
    "    - arc\n",
    "    - bitmap\n",
    "    - image(BitmapImage, PhotoImage)\n",
    "    - line\n",
    "    - oval\n",
    "    - polygon\n",
    "    - rectangle\n",
    "    - text\n",
    "    - winodw(组件)\n",
    "- 每次调用create_xxx都会返回一个创建的组件的ID, 同时也可以用tag属性指定其标签\n",
    "- 每次调用canvas.move实现一个一次性动作"
   ]
  },
  {
   "cell_type": "code",
   "execution_count": 15,
   "metadata": {
    "collapsed": true
   },
   "outputs": [],
   "source": [
    "# 简单画布\n",
    "\n",
    "import tkinter\n",
    "\n",
    "baseFrame = tkinter.Tk()\n",
    "\n",
    "cvs = tkinter.Canvas(baseFrame, width=300, height=200)\n",
    "cvs.pack()\n",
    "\n",
    "# 一条线需要两个点指明起始\n",
    "cvs.create_line(23,23, 190,234)\n",
    "cvs.create_text(56, 67, text=\"I LOVE PYTHON\")\n",
    "\n",
    "baseFrame.mainloop()"
   ]
  },
  {
   "cell_type": "code",
   "execution_count": null,
   "metadata": {
    "collapsed": true
   },
   "outputs": [],
   "source": []
  }
 ],
 "metadata": {
  "kernelspec": {
   "display_name": "Python 3",
   "language": "python",
   "name": "python3"
  },
  "language_info": {
   "codemirror_mode": {
    "name": "ipython",
    "version": 3
   },
   "file_extension": ".py",
   "mimetype": "text/x-python",
   "name": "python",
   "nbconvert_exporter": "python",
   "pygments_lexer": "ipython3",
   "version": "3.6.3"
  }
 },
 "nbformat": 4,
 "nbformat_minor": 2
}

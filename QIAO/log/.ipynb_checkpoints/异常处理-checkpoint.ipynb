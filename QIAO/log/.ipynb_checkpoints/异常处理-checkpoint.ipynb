{
 "cells": [
  {
   "cell_type": "markdown",
   "metadata": {},
   "source": [
    "# 异常\n",
    "- 广义上的错误分为错误和异常\n",
    "- 错误指的是可以人为避免\n",
    "- 异常是指在语法逻辑正确的前提下, 出现的问题\n",
    "- 在Python里, 异常是一个类, 可以处理和使用\n",
    "- 异常的类型  (百度)"
   ]
  },
  {
   "cell_type": "markdown",
   "metadata": {},
   "source": [
    "# 异常处理\n",
    "- 不能保证程序永远正确运行\n",
    "- 但是,必须保证程序在最坏的情况下也被妥善处理\n"
   ]
  },
  {
   "cell_type": "code",
   "execution_count": 6,
   "metadata": {},
   "outputs": [
    {
     "name": "stdout",
     "output_type": "stream",
     "text": [
      "plz input your number: 0\n",
      "不可以输入 0 \n"
     ]
    }
   ],
   "source": [
    "try:\n",
    "    num = int(input(\"plz input your number: \"))\n",
    "    rst = 100/num\n",
    "    print(\"计算结果是:  {0}\".format(rst))\n",
    "except:\n",
    "    print(\"不可以输入 0 \")\n",
    "    exit\n"
   ]
  },
  {
   "cell_type": "code",
   "execution_count": 8,
   "metadata": {},
   "outputs": [
    {
     "name": "stdout",
     "output_type": "stream",
     "text": [
      "plz input your number: 0\n",
      "不可以输入 0 \n",
      "division by zero\n"
     ]
    }
   ],
   "source": [
    "try:\n",
    "    num = int(input(\"plz input your number: \"))\n",
    "    rst = 100/num\n",
    "    print(\"计算结果是:  {0}\".format(rst))\n",
    "#捕获异常后,把异常实例化,出现信息会在实例里\n",
    "#以下语法是捕获 ZeroDivisionError异常并实例化实例e\n",
    "except ZeroDivisionError as e:\n",
    "    print(\"不可以输入 0 \")\n",
    "    print(e)\n",
    "    exit()\n"
   ]
  },
  {
   "cell_type": "markdown",
   "metadata": {},
   "source": [
    "\n",
    "# 用户手动引发异常\n",
    "- 当某些情况,用户希望自己引发一个异常的时候,可以使用\n",
    "- raise 关键字来引发异常\n",
    "- 只要是raise异常, 推荐自定义异常,     使用类来自定义异常\n",
    "- 在自定义异常的时候,一般包含以下内容:\n",
    "    - 自定义发生异常的异常代码\n",
    "    - 自定义异常发生后的问题提示\n",
    "    - 自定义发生异常的行数\n",
    "- 最终的目的是,一旦发生异常, 方便程序员快速定位异常现场\n"
   ]
  },
  {
   "cell_type": "code",
   "execution_count": null,
   "metadata": {
    "collapsed": true
   },
   "outputs": [],
   "source": []
  },
  {
   "cell_type": "code",
   "execution_count": null,
   "metadata": {
    "collapsed": true
   },
   "outputs": [],
   "source": []
  },
  {
   "cell_type": "code",
   "execution_count": null,
   "metadata": {
    "collapsed": true
   },
   "outputs": [],
   "source": []
  },
  {
   "cell_type": "code",
   "execution_count": null,
   "metadata": {
    "collapsed": true
   },
   "outputs": [],
   "source": []
  }
 ],
 "metadata": {
  "kernelspec": {
   "display_name": "Python 3",
   "language": "python",
   "name": "python3"
  },
  "language_info": {
   "codemirror_mode": {
    "name": "ipython",
    "version": 3
   },
   "file_extension": ".py",
   "mimetype": "text/x-python",
   "name": "python",
   "nbconvert_exporter": "python",
   "pygments_lexer": "ipython3",
   "version": "3.6.3"
  }
 },
 "nbformat": 4,
 "nbformat_minor": 2
}
